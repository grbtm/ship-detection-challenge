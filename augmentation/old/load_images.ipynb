{
 "cells": [
  {
   "cell_type": "code",
   "execution_count": null,
   "metadata": {},
   "outputs": [],
   "source": [
    "import numpy as np\n",
    "import tensorflow as tf\n",
    "import pandas as pd\n",
    "import cv2\n",
    "import time\n",
    "import os\n",
    "\n",
    "def cv_resize_pad(img,desired_size):\n",
    "    osize = img.shape[:2]\n",
    "    ratio = float(desired_size)/max(osize)\n",
    "    nsize = tuple([int(x*ratio) for x in osize])\n",
    "    \n",
    "    img = cv2.resize(img, (nsize[1],nsize[0]))\n",
    "    dw = desired_size - nsize[1]\n",
    "    dh = desired_size - nsize[0]\n",
    "\n",
    "    top,bottom = dh//2,dh-(dh//2)\n",
    "    left,right = dw//2,dw-(dw//2)\n",
    "\n",
    "    color = [0,0,0]\n",
    "    return cv2.copyMakeBorder(img,top,bottom,left,right,cv2.BORDER_CONSTANT,value=color)\n",
    "\n",
    "def generate_seqs(images,data_desc):\n",
    "    idx = []\n",
    "    runn_idx = 0\n",
    "    img_seqs = []\n",
    "    labels = []\n",
    "    label = None\n",
    "    tid = 0 \n",
    "    for _,row in data_desc.iterrows():\n",
    "        if(tid != row['trackid']):\n",
    "            if(len(idx)!=0):\n",
    "                print(row)\n",
    "                idx = list(map(lambda x: x+runn_idx,idx))\n",
    "                img_seqs.append(np.array(images[idx]))\n",
    "                labels.append(label)\n",
    "                runn_idx = runn_idx + len(idx)\n",
    "            \n",
    "            tid = row['trackid']\n",
    "            idx = [row['framenr']-2] #TODO\n",
    "        else:\n",
    "            idx.append(row['framenr']-2)\n",
    "        label = row['class']\n",
    "    return img_seqs,labels\n",
    "\n",
    "def load_images(data_dir,resize=None):\n",
    "    dir_list = ['boat/','nature/']\n",
    "    img_list = []\n",
    "    label_list= []\n",
    "    shapes = []\n",
    "    for sub_dir in dir_list:\n",
    "        filenames = os.listdir(os.path.join(data_dir,sub_dir))\n",
    "        for filename in filenames:\n",
    "            if filename[-3:]=='png':\n",
    "                try:\n",
    "                    img_raw = cv2.imread(data_dir+sub_dir+filename,cv2.IMREAD_COLOR)\n",
    "                    img_list.append(img_raw)\n",
    "                    label_list.append(sub_dir[:-1])\n",
    "                    shapes.append((img_raw.shape[0],img_raw.shape[1]))\n",
    "                    time.sleep(0.1)\n",
    "\n",
    "                except:\n",
    "                    print('Did not load: ',i)\n",
    "                    pass\n",
    "\n",
    "    shapes = np.array(shapes)\n",
    "    if(resize==None):\n",
    "        resize = np.int8((np.mean(shapes[:,0])+np.mean(shapes[:,1]))/2.0)\n",
    "    res_imgs = []\n",
    "    for img in img_list:\n",
    "        nimg = cv_resize_pad(img,resize)\n",
    "        # More augmentation \n",
    "        res_imgs.append(nimg)\n",
    "\n",
    "    images = np.array(res_imgs)\n",
    "    labels = np.array(label_list)\n",
    "    return images, labels\n",
    "  \n",
    "data_dir = 'Bodensee/'\n",
    "train_dir = data_dir +'train/'\n",
    "test_dir = data_dir +'test/'\n",
    "train_imgs,train_labels = load_images(train_dir)\n",
    "test_imgs,test_labels = load_images(test_dir,resize=train_imgs.shape[2])\n",
    "train_dataset = tf.data.Dataset.from_tensor_slices((train_imgs,train_labels))\n",
    "test_dataset = tf.data.Dataset.from_tensor_slices((test_imgs,test_labels))"
   ]
  },
  {
   "cell_type": "code",
   "execution_count": 4,
   "metadata": {},
   "outputs": [
    {
     "name": "stdout",
     "output_type": "stream",
     "text": [
      "6068.png                 bird.jpg                 testing.py\r\n",
      "\u001b[34mBodensee\u001b[m\u001b[m                 custom_augmentation.py\r\n",
      "Untitled.ipynb           \u001b[34mship-detection-challenge\u001b[m\u001b[m\r\n"
     ]
    }
   ],
   "source": [
    "!ls"
   ]
  },
  {
   "cell_type": "code",
   "execution_count": null,
   "metadata": {},
   "outputs": [],
   "source": [
    "cd Bodensee/train"
   ]
  }
 ],
 "metadata": {
  "kernelspec": {
   "display_name": "Python 3",
   "language": "python",
   "name": "python3"
  },
  "language_info": {
   "codemirror_mode": {
    "name": "ipython",
    "version": 3
   },
   "file_extension": ".py",
   "mimetype": "text/x-python",
   "name": "python",
   "nbconvert_exporter": "python",
   "pygments_lexer": "ipython3",
   "version": "3.6.0"
  }
 },
 "nbformat": 4,
 "nbformat_minor": 2
}
