{
 "cells": [
  {
   "cell_type": "code",
   "execution_count": 1,
   "metadata": {
    "scrolled": true
   },
   "outputs": [
    {
     "name": "stdout",
     "output_type": "stream",
     "text": [
      "Requirement already up-to-date: tensorflow_hub in /home/badc0ded/anaconda3/envs/colab/lib/python3.6/site-packages (0.5.0)\n",
      "Requirement already satisfied, skipping upgrade: numpy>=1.12.0 in /home/badc0ded/anaconda3/envs/colab/lib/python3.6/site-packages (from tensorflow_hub) (1.16.4)\n",
      "Requirement already satisfied, skipping upgrade: six>=1.10.0 in /home/badc0ded/anaconda3/envs/colab/lib/python3.6/site-packages (from tensorflow_hub) (1.12.0)\n",
      "Requirement already satisfied, skipping upgrade: protobuf>=3.4.0 in /home/badc0ded/anaconda3/envs/colab/lib/python3.6/site-packages (from tensorflow_hub) (3.7.1)\n",
      "Requirement already satisfied, skipping upgrade: setuptools in /home/badc0ded/anaconda3/envs/colab/lib/python3.6/site-packages (from protobuf>=3.4.0->tensorflow_hub) (41.0.1)\n",
      "Requirement already satisfied: tf-nightly-gpu in /home/badc0ded/anaconda3/envs/colab/lib/python3.6/site-packages (1.15.0.dev20190727)\n",
      "Requirement already satisfied: astor>=0.6.0 in /home/badc0ded/anaconda3/envs/colab/lib/python3.6/site-packages (from tf-nightly-gpu) (0.8.0)\n",
      "Requirement already satisfied: six>=1.10.0 in /home/badc0ded/anaconda3/envs/colab/lib/python3.6/site-packages (from tf-nightly-gpu) (1.12.0)\n",
      "Requirement already satisfied: opt-einsum>=2.3.2 in /home/badc0ded/anaconda3/envs/colab/lib/python3.6/site-packages (from tf-nightly-gpu) (2.3.2)\n",
      "Requirement already satisfied: keras-applications>=1.0.8 in /home/badc0ded/anaconda3/envs/colab/lib/python3.6/site-packages (from tf-nightly-gpu) (1.0.8)\n",
      "Requirement already satisfied: absl-py>=0.7.0 in /home/badc0ded/anaconda3/envs/colab/lib/python3.6/site-packages (from tf-nightly-gpu) (0.7.1)\n",
      "Requirement already satisfied: termcolor>=1.1.0 in /home/badc0ded/anaconda3/envs/colab/lib/python3.6/site-packages (from tf-nightly-gpu) (1.1.0)\n",
      "Requirement already satisfied: wrapt>=1.11.1 in /home/badc0ded/anaconda3/envs/colab/lib/python3.6/site-packages (from tf-nightly-gpu) (1.11.1)\n",
      "Requirement already satisfied: protobuf>=3.6.1 in /home/badc0ded/anaconda3/envs/colab/lib/python3.6/site-packages (from tf-nightly-gpu) (3.7.1)\n",
      "Requirement already satisfied: keras-preprocessing>=1.0.5 in /home/badc0ded/anaconda3/envs/colab/lib/python3.6/site-packages (from tf-nightly-gpu) (1.1.0)\n",
      "Requirement already satisfied: tb-nightly<1.16.0a0,>=1.15.0a0 in /home/badc0ded/anaconda3/envs/colab/lib/python3.6/site-packages (from tf-nightly-gpu) (1.15.0a20190727)\n",
      "Requirement already satisfied: numpy<2.0,>=1.16.0 in /home/badc0ded/anaconda3/envs/colab/lib/python3.6/site-packages (from tf-nightly-gpu) (1.16.4)\n",
      "Requirement already satisfied: tf-estimator-nightly in /home/badc0ded/anaconda3/envs/colab/lib/python3.6/site-packages (from tf-nightly-gpu) (1.14.0.dev2019072701)\n",
      "Requirement already satisfied: google-pasta>=0.1.6 in /home/badc0ded/anaconda3/envs/colab/lib/python3.6/site-packages (from tf-nightly-gpu) (0.1.7)\n",
      "Requirement already satisfied: wheel>=0.26 in /home/badc0ded/anaconda3/envs/colab/lib/python3.6/site-packages (from tf-nightly-gpu) (0.33.4)\n",
      "Requirement already satisfied: grpcio>=1.8.6 in /home/badc0ded/anaconda3/envs/colab/lib/python3.6/site-packages (from tf-nightly-gpu) (1.15.0)\n",
      "Requirement already satisfied: gast>=0.2.0 in /home/badc0ded/anaconda3/envs/colab/lib/python3.6/site-packages (from tf-nightly-gpu) (0.2.2)\n",
      "Requirement already satisfied: h5py in /home/badc0ded/anaconda3/envs/colab/lib/python3.6/site-packages (from keras-applications>=1.0.8->tf-nightly-gpu) (2.8.0)\n",
      "Requirement already satisfied: setuptools in /home/badc0ded/anaconda3/envs/colab/lib/python3.6/site-packages (from protobuf>=3.6.1->tf-nightly-gpu) (41.0.1)\n",
      "Requirement already satisfied: markdown>=2.6.8 in /home/badc0ded/anaconda3/envs/colab/lib/python3.6/site-packages (from tb-nightly<1.16.0a0,>=1.15.0a0->tf-nightly-gpu) (3.1.1)\n",
      "Requirement already satisfied: werkzeug>=0.11.15 in /home/badc0ded/anaconda3/envs/colab/lib/python3.6/site-packages (from tb-nightly<1.16.0a0,>=1.15.0a0->tf-nightly-gpu) (0.15.4)\n"
     ]
    }
   ],
   "source": [
    "!pip install -U tensorflow_hub\n",
    "!pip install tf-nightly-gpu"
   ]
  },
  {
   "cell_type": "code",
   "execution_count": 2,
   "metadata": {},
   "outputs": [],
   "source": [
    "from __future__ import absolute_import, division, print_function, unicode_literals"
   ]
  },
  {
   "cell_type": "code",
   "execution_count": 3,
   "metadata": {},
   "outputs": [
    {
     "name": "stderr",
     "output_type": "stream",
     "text": [
      "WARNING: Logging before flag parsing goes to stderr.\n",
      "W0728 11:55:19.108352 139998109325120 module_wrapper.py:136] From /home/badc0ded/anaconda3/envs/colab/lib/python3.6/site-packages/tensorflow_core/python/util/module_wrapper.py:163: The name tf.enable_eager_execution is deprecated. Please use tf.compat.v1.enable_eager_execution instead.\n",
      "\n"
     ]
    }
   ],
   "source": [
    "import tensorflow as tf\n",
    "tf.enable_eager_execution()\n",
    "import tensorflow_hub as hub\n",
    "from tensorflow.keras import layers"
   ]
  },
  {
   "cell_type": "markdown",
   "metadata": {},
   "source": [
    "config = tf.ConfigProto()\n",
    "config.gpu_options.allow_growth = True\n",
    "config.gpu_options.per_process_gpu_memory_fraction = 0.1\n",
    "session = tf.Session(config=config)\n",
    "import tensorflow.keras.backend as K\n",
    "K.set_session(session=session)"
   ]
  },
  {
   "cell_type": "code",
   "execution_count": 4,
   "metadata": {},
   "outputs": [],
   "source": [
    "import matplotlib.pylab as plt\n",
    "import numpy as np\n",
    "import PIL.Image as Image\n",
    "import time\n",
    "import os"
   ]
  },
  {
   "cell_type": "code",
   "execution_count": 5,
   "metadata": {},
   "outputs": [],
   "source": [
    "os.environ['DATA_PATH'] = '/home/badc0ded/notebooks/data'\n",
    "#os.environ['DATA_PATH'] = '/notebooks/data/datasets/pipistrel/Hackathon/SingleFrame_ObjectProposalClassification'"
   ]
  },
  {
   "cell_type": "code",
   "execution_count": 6,
   "metadata": {},
   "outputs": [],
   "source": [
    "DATA_PATH = os.environ.get('DATA_PATH')\n",
    "\n",
    "IMAGE_SHAPE = (224, 224)"
   ]
  },
  {
   "cell_type": "code",
   "execution_count": 7,
   "metadata": {},
   "outputs": [],
   "source": [
    "class CollectBatchStats(tf.keras.callbacks.Callback):\n",
    "  def __init__(self):\n",
    "    self.batch_losses = []\n",
    "    self.batch_acc = []\n",
    "\n",
    "  def on_train_batch_end(self, batch, logs=None):\n",
    "    self.batch_losses.append(logs['loss'])\n",
    "    self.batch_acc.append(logs['acc'])\n",
    "    self.batch_acc.append(logs['precision'])\n",
    "    self.batch_acc.append(logs['recall'])\n",
    "    self.model.reset_metrics()\n",
    "\n",
    "\n",
    "def read_data(data_root):\n",
    "  image_generator = tf.keras.preprocessing.image.ImageDataGenerator(rescale=1 / 255)\n",
    "  image_data = image_generator.flow_from_directory(str(data_root), target_size=IMAGE_SHAPE)\n",
    "  return image_data\n",
    "\n",
    "\n",
    "def plot_predicted_batch(image_batch, label_batch, predicted_batch):\n",
    "  predicted_id = np.argmax(predicted_batch, axis=-1)\n",
    "  predicted_label_batch = class_names[predicted_id]\n",
    "  label_id = np.argmax(label_batch, axis=-1)\n",
    "  plt.figure(figsize=(10, 9))\n",
    "  plt.subplots_adjust(hspace=0.5)\n",
    "  for n in range(30):\n",
    "    plt.subplot(6, 5, n + 1)\n",
    "    plt.imshow(image_batch[n])\n",
    "    color = \"green\" if predicted_id[n] == label_id[n] else \"red\"\n",
    "    plt.title(predicted_label_batch[n].title(), color=color)\n",
    "    plt.axis('off')\n",
    "  _ = plt.suptitle(\"Model predictions (green: correct, red: incorrect)\")"
   ]
  },
  {
   "cell_type": "code",
   "execution_count": 8,
   "metadata": {},
   "outputs": [
    {
     "name": "stdout",
     "output_type": "stream",
     "text": [
      "Found 11390 images belonging to 2 classes.\n"
     ]
    }
   ],
   "source": [
    "train_data_root = os.path.join(DATA_PATH, \"train\")\n",
    "train_image_data = read_data(train_data_root)\n",
    "train_image_batch, train_label_batch = train_image_data[0]"
   ]
  },
  {
   "cell_type": "code",
   "execution_count": 9,
   "metadata": {},
   "outputs": [],
   "source": [
    "feature_extractor_url = \"https://tfhub.dev/google/tf2-preview/mobilenet_v2/feature_vector/2\" #@param {type:\"string\"}\n",
    "feature_extractor_layer = hub.KerasLayer(feature_extractor_url,\n",
    "                                         input_shape=IMAGE_SHAPE + (3,))\n",
    "feature_extractor_layer(train_image_batch)\n",
    "feature_extractor_layer.trainable = False"
   ]
  },
  {
   "cell_type": "markdown",
   "metadata": {},
   "source": [
    "model = tf.keras.Sequential([\n",
    "  #layers.Dropout(0.2, input_shape=(224,224,3)),\n",
    "  feature_extractor_layer,\n",
    "  #layers.Dense((train_image_data.num_classes +  1280) / 2, activation = 'relu'),\n",
    "  layers.Dense(train_image_data.num_classes, activation='softmax')\n",
    "])\n",
    "\n",
    "model.summary()"
   ]
  },
  {
   "cell_type": "code",
   "execution_count": 10,
   "metadata": {
    "scrolled": true
   },
   "outputs": [
    {
     "name": "stderr",
     "output_type": "stream",
     "text": [
      "W0728 11:55:23.680005 139998109325120 deprecation.py:323] From <ipython-input-10-b27862bb1eaf>:3: load_from_saved_model (from tensorflow.python.keras.saving.saved_model_experimental) is deprecated and will be removed in a future version.\n",
      "Instructions for updating:\n",
      "The experimental save and load functions have been  deprecated. Please switch to `tf.keras.models.load_model`.\n",
      "W0728 11:55:27.454114 139998109325120 module_wrapper.py:136] From /home/badc0ded/anaconda3/envs/colab/lib/python3.6/site-packages/tensorflow_core/python/util/module_wrapper.py:163: The name tf.estimator.inputs is deprecated. Please use tf.compat.v1.estimator.inputs instead.\n",
      "\n"
     ]
    }
   ],
   "source": [
    "load_path = '/home/badc0ded/notebooks/saved_models/best_10_02'\n",
    "reloaded = tf.keras.experimental.load_from_saved_model(load_path,\n",
    "                                                       custom_objects={'KerasLayer': hub.KerasLayer})\n",
    "\n",
    "reloaded.compile(loss='categorical_crossentropy', optimizer='adam', metrics=['acc'])\n"
   ]
  },
  {
   "cell_type": "code",
   "execution_count": 11,
   "metadata": {},
   "outputs": [],
   "source": [
    "def eval_model_on_data(model, data_root_short_name):\n",
    "    data_root = os.path.join(DATA_PATH, data_root_short_name)\n",
    "    image_data = read_data(data_root)\n",
    "    loss, acc = model.evaluate(image_data)\n",
    "    print('Accuracy: {}'.format(acc))\n",
    "    return loss, acc, image_data"
   ]
  },
  {
   "cell_type": "code",
   "execution_count": 12,
   "metadata": {},
   "outputs": [
    {
     "name": "stdout",
     "output_type": "stream",
     "text": [
      "Found 4614 images belonging to 2 classes.\n",
      "145/145 [==============================] - 88s 604ms/step - loss: 0.0048 - acc: 0.9989\n",
      "Accuracy: 0.9989163279533386\n",
      "CPU times: user 4min 20s, sys: 43.1 s, total: 5min 3s\n",
      "Wall time: 1min 28s\n"
     ]
    }
   ],
   "source": [
    "%%time\n",
    "_, test_acc, test_image_data = eval_model_on_data(reloaded, \"test\")"
   ]
  },
  {
   "cell_type": "code",
   "execution_count": 13,
   "metadata": {},
   "outputs": [
    {
     "name": "stdout",
     "output_type": "stream",
     "text": [
      "Found 482 images belonging to 2 classes.\n",
      "16/16 [==============================] - 9s 579ms/step - loss: 0.0183 - acc: 0.9979\n",
      "Accuracy: 0.9979252815246582\n"
     ]
    }
   ],
   "source": [
    "_, test_boats_acc, test_boats_image_data = eval_model_on_data(reloaded, \"test_boats\")"
   ]
  },
  {
   "cell_type": "code",
   "execution_count": 14,
   "metadata": {},
   "outputs": [
    {
     "name": "stdout",
     "output_type": "stream",
     "text": [
      "Found 1011 images belonging to 2 classes.\n",
      "32/32 [==============================] - 20s 637ms/step - loss: 0.0141 - acc: 0.9980\n",
      "Accuracy: 0.9980217814445496\n"
     ]
    }
   ],
   "source": [
    "_, train_boats_acc, train_boats_image_data = eval_model_on_data(reloaded, \"train_boats\")"
   ]
  },
  {
   "cell_type": "code",
   "execution_count": 15,
   "metadata": {
    "scrolled": true
   },
   "outputs": [
    {
     "name": "stdout",
     "output_type": "stream",
     "text": [
      "Missed 1 out of 482 boats in test.zip\n",
      "Missed 1 out of 1011 boats in train.zip\n"
     ]
    }
   ],
   "source": [
    "print('Missed {} out of {} boats in test.zip'.format(\n",
    "    int(test_boats_image_data.samples * (1 - test_boats_acc)),\n",
    "    test_boats_image_data.samples))\n",
    "print('Missed {} out of {} boats in train.zip'.format(\n",
    "    int(train_boats_image_data.samples * (1 - train_boats_acc)),\n",
    "    train_boats_image_data.samples))"
   ]
  }
 ],
 "metadata": {
  "kernelspec": {
   "display_name": "Python 3",
   "language": "python",
   "name": "python3"
  },
  "language_info": {
   "codemirror_mode": {
    "name": "ipython",
    "version": 3
   },
   "file_extension": ".py",
   "mimetype": "text/x-python",
   "name": "python",
   "nbconvert_exporter": "python",
   "pygments_lexer": "ipython3",
   "version": "3.6.8"
  }
 },
 "nbformat": 4,
 "nbformat_minor": 2
}
