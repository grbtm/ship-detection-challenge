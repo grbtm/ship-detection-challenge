{
  "cells": [
    {
      "cell_type": "code",
      "execution_count": null,
      "outputs": [],
      "source": "import os\nENVIRONMENT\u003dos.environ.get(\u0027ENVIRONMENT\u0027)\nif ENVIRONMENT \u003d\u003d \u0027DGX\u0027:\n    !pip install -U tensorflow_hub\u003d\u003d0.5.0\n    !pip install tensorflow-gpu\u003d\u003d1.14.0\nelse:\n    !pip install -U tensorflow_hub\n    !pip install tf-nightly-gpu",
      "metadata": {
        "pycharm": {
          "metadata": false,
          "name": "#%%\n"
        }
      }
    },
    {
      "cell_type": "code",
      "execution_count": 2,
      "metadata": {
        "pycharm": {}
      },
      "outputs": [],
      "source": "from __future__ import absolute_import, division, print_function, unicode_literals"
    },
    {
      "cell_type": "code",
      "execution_count": 3,
      "metadata": {
        "pycharm": {}
      },
      "outputs": [
        {
          "name": "stderr",
          "output_type": "stream",
          "text": [
            "/usr/local/lib/python3.5/dist-packages/tensorflow/python/framework/dtypes.py:516: FutureWarning: Passing (type, 1) or \u00271type\u0027 as a synonym of type is deprecated; in a future version of numpy, it will be understood as (type, (1,)) / \u0027(1,)type\u0027.\n",
            "  _np_qint8 \u003d np.dtype([(\"qint8\", np.int8, 1)])\n",
            "/usr/local/lib/python3.5/dist-packages/tensorflow/python/framework/dtypes.py:517: FutureWarning: Passing (type, 1) or \u00271type\u0027 as a synonym of type is deprecated; in a future version of numpy, it will be understood as (type, (1,)) / \u0027(1,)type\u0027.\n",
            "  _np_quint8 \u003d np.dtype([(\"quint8\", np.uint8, 1)])\n",
            "/usr/local/lib/python3.5/dist-packages/tensorflow/python/framework/dtypes.py:518: FutureWarning: Passing (type, 1) or \u00271type\u0027 as a synonym of type is deprecated; in a future version of numpy, it will be understood as (type, (1,)) / \u0027(1,)type\u0027.\n",
            "  _np_qint16 \u003d np.dtype([(\"qint16\", np.int16, 1)])\n",
            "/usr/local/lib/python3.5/dist-packages/tensorflow/python/framework/dtypes.py:519: FutureWarning: Passing (type, 1) or \u00271type\u0027 as a synonym of type is deprecated; in a future version of numpy, it will be understood as (type, (1,)) / \u0027(1,)type\u0027.\n",
            "  _np_quint16 \u003d np.dtype([(\"quint16\", np.uint16, 1)])\n",
            "/usr/local/lib/python3.5/dist-packages/tensorflow/python/framework/dtypes.py:520: FutureWarning: Passing (type, 1) or \u00271type\u0027 as a synonym of type is deprecated; in a future version of numpy, it will be understood as (type, (1,)) / \u0027(1,)type\u0027.\n",
            "  _np_qint32 \u003d np.dtype([(\"qint32\", np.int32, 1)])\n",
            "/usr/local/lib/python3.5/dist-packages/tensorflow/python/framework/dtypes.py:525: FutureWarning: Passing (type, 1) or \u00271type\u0027 as a synonym of type is deprecated; in a future version of numpy, it will be understood as (type, (1,)) / \u0027(1,)type\u0027.\n",
            "  np_resource \u003d np.dtype([(\"resource\", np.ubyte, 1)])\n",
            "/usr/local/lib/python3.5/dist-packages/tensorboard/compat/tensorflow_stub/dtypes.py:541: FutureWarning: Passing (type, 1) or \u00271type\u0027 as a synonym of type is deprecated; in a future version of numpy, it will be understood as (type, (1,)) / \u0027(1,)type\u0027.\n",
            "  _np_qint8 \u003d np.dtype([(\"qint8\", np.int8, 1)])\n",
            "/usr/local/lib/python3.5/dist-packages/tensorboard/compat/tensorflow_stub/dtypes.py:542: FutureWarning: Passing (type, 1) or \u00271type\u0027 as a synonym of type is deprecated; in a future version of numpy, it will be understood as (type, (1,)) / \u0027(1,)type\u0027.\n",
            "  _np_quint8 \u003d np.dtype([(\"quint8\", np.uint8, 1)])\n",
            "/usr/local/lib/python3.5/dist-packages/tensorboard/compat/tensorflow_stub/dtypes.py:543: FutureWarning: Passing (type, 1) or \u00271type\u0027 as a synonym of type is deprecated; in a future version of numpy, it will be understood as (type, (1,)) / \u0027(1,)type\u0027.\n",
            "  _np_qint16 \u003d np.dtype([(\"qint16\", np.int16, 1)])\n",
            "/usr/local/lib/python3.5/dist-packages/tensorboard/compat/tensorflow_stub/dtypes.py:544: FutureWarning: Passing (type, 1) or \u00271type\u0027 as a synonym of type is deprecated; in a future version of numpy, it will be understood as (type, (1,)) / \u0027(1,)type\u0027.\n",
            "  _np_quint16 \u003d np.dtype([(\"quint16\", np.uint16, 1)])\n",
            "/usr/local/lib/python3.5/dist-packages/tensorboard/compat/tensorflow_stub/dtypes.py:545: FutureWarning: Passing (type, 1) or \u00271type\u0027 as a synonym of type is deprecated; in a future version of numpy, it will be understood as (type, (1,)) / \u0027(1,)type\u0027.\n",
            "  _np_qint32 \u003d np.dtype([(\"qint32\", np.int32, 1)])\n",
            "/usr/local/lib/python3.5/dist-packages/tensorboard/compat/tensorflow_stub/dtypes.py:550: FutureWarning: Passing (type, 1) or \u00271type\u0027 as a synonym of type is deprecated; in a future version of numpy, it will be understood as (type, (1,)) / \u0027(1,)type\u0027.\n",
            "  np_resource \u003d np.dtype([(\"resource\", np.ubyte, 1)])\n"
          ]
        }
      ],
      "source": "import tensorflow as tf\ntf.enable_eager_execution()\nimport tensorflow_hub as hub\nfrom tensorflow.keras import layers"
    },
    {
      "cell_type": "code",
      "execution_count": 4,
      "metadata": {
        "pycharm": {}
      },
      "outputs": [],
      "source": "if ENVIRONMENT \u003d\u003d \u0027DGX\u0027:\n    config \u003d tf.ConfigProto()\n    config.gpu_options.allow_growth \u003d True\n    config.gpu_options.per_process_gpu_memory_fraction \u003d 0.1\n    session \u003d tf.Session(config\u003dconfig)\n    import tensorflow.keras.backend as K\n    K.set_session(session\u003dsession)"
    },
    {
      "cell_type": "code",
      "execution_count": 5,
      "metadata": {
        "pycharm": {}
      },
      "outputs": [],
      "source": [
        "import matplotlib.pylab as plt\n",
        "import numpy as np\n",
        "import PIL.Image as Image\n",
        "import time\n",
        "import os"
      ]
    },
    {
      "cell_type": "code",
      "execution_count": 6,
      "metadata": {
        "pycharm": {}
      },
      "outputs": [],
      "source": "if ENVIRONMENT \u003d\u003d \u0027DGX\u0027:\n    os.environ[\u0027DATA_PATH\u0027] \u003d \u0027/notebooks/data/datasets/pipistrel/Hackathon/SingleFrame_ObjectProposalClassification\u0027\nelse:\n    os.environ[\u0027DATA_PATH\u0027] \u003d \u0027/home/badc0ded/notebooks/data\u0027"
    },
    {
      "cell_type": "code",
      "execution_count": 8,
      "metadata": {
        "pycharm": {}
      },
      "outputs": [],
      "source": [
        "DATA_PATH \u003d os.environ.get(\u0027DATA_PATH\u0027)\n",
        "\n",
        "IMAGE_SHAPE \u003d (224, 224)"
      ]
    },
    {
      "cell_type": "code",
      "execution_count": 9,
      "metadata": {
        "pycharm": {}
      },
      "outputs": [],
      "source": "class CollectBatchStats(tf.keras.callbacks.Callback):\n  def __init__(self):\n    self.batch_losses \u003d []\n    self.batch_acc \u003d []\n\n  def on_train_batch_end(self, batch, logs\u003dNone):\n    self.batch_losses.append(logs[\u0027loss\u0027])\n    self.batch_acc.append(logs[\u0027acc\u0027])\n    self.model.reset_metrics()\n\n\ndef read_data(data_root):\n  image_generator \u003d tf.keras.preprocessing.image.ImageDataGenerator(rescale\u003d1 / 255)\n  image_data \u003d image_generator.flow_from_directory(str(data_root), target_size\u003dIMAGE_SHAPE)\n  return image_data\n\n\ndef plot_predicted_batch(image_batch, label_batch, predicted_batch):\n  predicted_id \u003d np.argmax(predicted_batch, axis\u003d-1)\n  predicted_label_batch \u003d class_names[predicted_id]\n  label_id \u003d np.argmax(label_batch, axis\u003d-1)\n  plt.figure(figsize\u003d(10, 9))\n  plt.subplots_adjust(hspace\u003d0.5)\n  for n in range(30):\n    plt.subplot(6, 5, n + 1)\n    plt.imshow(image_batch[n])\n    color \u003d \"green\" if predicted_id[n] \u003d\u003d label_id[n] else \"red\"\n    plt.title(predicted_label_batch[n].title(), color\u003dcolor)\n    plt.axis(\u0027off\u0027)\n  _ \u003d plt.suptitle(\"Model predictions (green: correct, red: incorrect)\")\n\n\ndef eval_model_on_data(model, data_root_short_name):\n    data_root \u003d os.path.join(DATA_PATH, data_root_short_name)\n    image_data \u003d read_data(data_root)\n    loss, acc \u003d model.evaluate(image_data)\n    print(\u0027Accuracy: {}\u0027.format(acc))\n    return loss, acc, image_data"
    },
    {
      "cell_type": "code",
      "execution_count": 10,
      "metadata": {
        "pycharm": {}
      },
      "outputs": [
        {
          "name": "stdout",
          "output_type": "stream",
          "text": [
            "Found 11390 images belonging to 2 classes.\n"
          ]
        }
      ],
      "source": "train_data_root \u003d os.path.join(DATA_PATH, \"train\")\ntrain_image_data \u003d read_data(train_data_root)\ntrain_image_batch, train_label_batch \u003d train_image_data.next()"
    },
    {
      "cell_type": "code",
      "execution_count": 11,
      "metadata": {
        "pycharm": {}
      },
      "outputs": [],
      "source": [
        "feature_extractor_url \u003d \"https://tfhub.dev/google/tf2-preview/mobilenet_v2/feature_vector/2\" #@param {type:\"string\"}\n",
        "feature_extractor_layer \u003d hub.KerasLayer(feature_extractor_url,\n",
        "                                         input_shape\u003dIMAGE_SHAPE + (3,))\n",
        "feature_extractor_layer(train_image_batch)\n",
        "feature_extractor_layer.trainable \u003d False"
      ]
    },
    {
      "cell_type": "code",
      "execution_count": 12,
      "metadata": {
        "pycharm": {}
      },
      "outputs": [
        {
          "name": "stdout",
          "output_type": "stream",
          "text": [
            "Model: \"sequential\"\n",
            "_________________________________________________________________\n",
            "Layer (type)                 Output Shape              Param #   \n",
            "\u003d\u003d\u003d\u003d\u003d\u003d\u003d\u003d\u003d\u003d\u003d\u003d\u003d\u003d\u003d\u003d\u003d\u003d\u003d\u003d\u003d\u003d\u003d\u003d\u003d\u003d\u003d\u003d\u003d\u003d\u003d\u003d\u003d\u003d\u003d\u003d\u003d\u003d\u003d\u003d\u003d\u003d\u003d\u003d\u003d\u003d\u003d\u003d\u003d\u003d\u003d\u003d\u003d\u003d\u003d\u003d\u003d\u003d\u003d\u003d\u003d\u003d\u003d\u003d\u003d\n",
            "keras_layer (KerasLayer)     (None, 1280)              2257984   \n",
            "_________________________________________________________________\n",
            "dense (Dense)                (None, 2)                 2562      \n",
            "\u003d\u003d\u003d\u003d\u003d\u003d\u003d\u003d\u003d\u003d\u003d\u003d\u003d\u003d\u003d\u003d\u003d\u003d\u003d\u003d\u003d\u003d\u003d\u003d\u003d\u003d\u003d\u003d\u003d\u003d\u003d\u003d\u003d\u003d\u003d\u003d\u003d\u003d\u003d\u003d\u003d\u003d\u003d\u003d\u003d\u003d\u003d\u003d\u003d\u003d\u003d\u003d\u003d\u003d\u003d\u003d\u003d\u003d\u003d\u003d\u003d\u003d\u003d\u003d\u003d\n",
            "Total params: 2,260,546\n",
            "Trainable params: 2,562\n",
            "Non-trainable params: 2,257,984\n",
            "_________________________________________________________________\n"
          ]
        }
      ],
      "source": "model \u003d tf.keras.Sequential([\n    #layers.Dropout(0.2, input_shape\u003d(224,224,3)),\n    feature_extractor_layer,\n    #layers.Dense((train_image_data.num_classes +  1280) / 2, activation \u003d \u0027relu\u0027),\n    layers.Dense(train_image_data.num_classes, activation\u003d\u0027softmax\u0027)\n])\n\nmodel.summary()"
    },
    {
      "cell_type": "code",
      "execution_count": null,
      "metadata": {
        "pycharm": {}
      },
      "outputs": [
        {
          "name": "stderr",
          "output_type": "stream",
          "text": [
            "WARNING: Logging before flag parsing goes to stderr.\n",
            "W0727 15:49:52.070923 140458019288832 deprecation.py:323] From /usr/local/lib/python3.5/dist-packages/tensorflow/python/ops/math_grad.py:1250: add_dispatch_support.\u003clocals\u003e.wrapper (from tensorflow.python.ops.array_ops) is deprecated and will be removed in a future version.\n",
            "Instructions for updating:\n",
            "Use tf.where in 2.0, which has the same broadcast rule as np.where\n"
          ]
        },
        {
          "name": "stdout",
          "output_type": "stream",
          "text": [
            "Epoch 1/2\n",
            "139/356 [\u003d\u003d\u003d\u003d\u003d\u003d\u003d\u003d\u003d\u003d\u003e...................] - ETA: 4:34 - loss: 0.0475 - acc: 1.0000"
          ]
        }
      ],
      "source": [
        "predictions \u003d model(train_image_batch)\n",
        "model.compile(\n",
        "  optimizer\u003dtf.keras.optimizers.Adam(),\n",
        "  loss\u003d\u0027categorical_crossentropy\u0027,\n",
        "  metrics\u003d[\u0027acc\u0027])\n",
        "\n",
        "steps_per_epoch \u003d np.ceil(train_image_data.samples/train_image_data.batch_size)\n",
        "\n",
        "batch_stats_callback \u003d CollectBatchStats()\n",
        "\n",
        "history \u003d model.fit(train_image_data, epochs\u003d2,\n",
        "                    steps_per_epoch\u003dsteps_per_epoch,\n",
        "                    callbacks\u003d[batch_stats_callback])\n"
      ]
    },
    {
      "cell_type": "code",
      "execution_count": null,
      "metadata": {
        "pycharm": {}
      },
      "outputs": [],
      "source": [
        "plt.figure()\n",
        "plt.ylabel(\"Loss\")\n",
        "plt.xlabel(\"Training Steps\")\n",
        "plt.ylim([0,2])\n",
        "plt.plot(batch_stats_callback.batch_losses)\n",
        "\n",
        "plt.figure()\n",
        "plt.ylabel(\"Accuracy\")\n",
        "plt.xlabel(\"Training Steps\")\n",
        "plt.ylim([0,1])\n",
        "plt.plot(batch_stats_callback.batch_acc)"
      ]
    },
    {
      "cell_type": "code",
      "execution_count": null,
      "metadata": {
        "pycharm": {}
      },
      "outputs": [],
      "source": [
        "class_names \u003d sorted(train_image_data.class_indices.items(), key\u003dlambda pair: pair[1])\n",
        "class_names \u003d np.array([key.title() for key, value in class_names])\n",
        "print(class_names)"
      ]
    },
    {
      "cell_type": "code",
      "execution_count": null,
      "metadata": {
        "pycharm": {}
      },
      "outputs": [],
      "source": "predicted_batch \u003d model.predict(train_image_batch)\nplot_predicted_batch(train_image_batch, train_label_batch, predicted_batch)"
    },
    {
      "cell_type": "code",
      "execution_count": null,
      "metadata": {
        "pycharm": {}
      },
      "outputs": [],
      "source": "t \u003d time.time()\n\nexport_path \u003d \"/tmp/saved_models/{}\".format(int(t))\ntf.keras.experimental.export_saved_model(model, export_path)\n\nprint(export_path)"
    },
    {
      "cell_type": "code",
      "execution_count": null,
      "metadata": {
        "pycharm": {}
      },
      "outputs": [],
      "source": [
        "reloaded \u003d tf.keras.experimental.load_from_saved_model(export_path,\n",
        "                                                       custom_objects\u003d{\u0027KerasLayer\u0027: hub.KerasLayer})\n",
        "\n",
        "result_batch \u003d model.predict(train_image_batch)\n",
        "reloaded_result_batch \u003d reloaded.predict(train_image_batch)\n",
        "\n",
        "print(abs(reloaded_result_batch - result_batch).max())"
      ]
    },
    {
      "cell_type": "code",
      "execution_count": null,
      "metadata": {
        "pycharm": {}
      },
      "outputs": [],
      "source": "test_data_root \u003d os.path.join(DATA_PATH, \"test\")\ntest_image_data \u003d read_data(test_data_root)\n\ntest_loss, test_acc \u003d model.evaluate(test_image_data)\n\nprint(\u0027Test accuracy: {}\u0027.format(test_acc))\n\n_, _, test_image_data \u003d eval_model_on_data(model, \"test\")"
    },
    {
      "cell_type": "code",
      "execution_count": null,
      "metadata": {
        "pycharm": {}
      },
      "outputs": [],
      "source": "test_image_batch, test_label_batch \u003d test_image_data.next()\npredicted_batch \u003d model.predict(test_image_batch)\nplot_predicted_batch(test_image_batch, test_label_batch, predicted_batch)\n"
    },
    {
      "cell_type": "code",
      "execution_count": null,
      "outputs": [],
      "source": "get_ipython().system(\u0027mkdir -p $DATA_PATH/test_boats/nature\u0027)\nget_ipython().system(\u0027ln -s ../test/boat $DATA_PATH/test_boats/\u0027)\nget_ipython().system(\u0027mkdir -p $DATA_PATH/train_boats/nature\u0027)\nget_ipython().system(\u0027ln -s ../train/boat $DATA_PATH/train_boats/\u0027)",
      "metadata": {
        "pycharm": {
          "metadata": false,
          "name": "#%%\n"
        }
      }
    },
    {
      "cell_type": "code",
      "execution_count": null,
      "outputs": [],
      "source": "_, test_boats_acc, test_boats_image_data \u003d eval_model_on_data(model, \"test_boats\")\n\n_, train_boats_acc, train_boats_image_data \u003d eval_model_on_data(model, \"train_boats\")",
      "metadata": {
        "pycharm": {
          "metadata": false,
          "name": "#%%\n"
        }
      }
    },
    {
      "cell_type": "code",
      "execution_count": null,
      "outputs": [],
      "source": "print(\u0027Missed {} out of {} boats in test.zip\u0027.format(\n    int(test_boats_image_data.samples * (1 - test_boats_acc)),\n    test_boats_image_data.samples))\nprint(\u0027Missed {} out of {} boats in train.zip\u0027.format(\n    int(train_boats_image_data.samples * (1 - train_boats_acc)),\n    train_boats_image_data.samples))",
      "metadata": {
        "pycharm": {
          "metadata": false,
          "name": "#%%\n"
        }
      }
    }
  ],
  "metadata": {
    "kernelspec": {
      "display_name": "Python 3",
      "language": "python",
      "name": "python3"
    },
    "language_info": {
      "codemirror_mode": {
        "name": "ipython",
        "version": 3
      },
      "file_extension": ".py",
      "mimetype": "text/x-python",
      "name": "python",
      "nbconvert_exporter": "python",
      "pygments_lexer": "ipython3",
      "version": "3.5.2"
    },
    "stem_cell": {
      "cell_type": "raw",
      "source": "",
      "metadata": {
        "pycharm": {
          "metadata": false
        }
      }
    }
  },
  "nbformat": 4,
  "nbformat_minor": 2
}