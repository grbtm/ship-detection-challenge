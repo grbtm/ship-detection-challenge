{
 "cells": [
  {
   "cell_type": "code",
   "execution_count": 37,
   "metadata": {
    "ExecuteTime": {
     "end_time": "2018-07-11T21:31:38.978025Z",
     "start_time": "2018-07-11T21:31:38.673876Z"
    }
   },
   "outputs": [],
   "source": [
    "%reload_ext autoreload\n",
    "%autoreload 2\n",
    "\n",
    "from PIL import Image, ImageEnhance, ImageOps\n",
    "import numpy as np\n",
    "import matplotlib.pyplot as plt\n",
    "import math\n",
    "import random\n",
    "import pdb\n",
    "import os\n",
    "import cv2"
   ]
  },
  {
   "cell_type": "code",
   "execution_count": 38,
   "metadata": {},
   "outputs": [],
   "source": [
    "# Autoaugment package\n",
    "from PIL import Image, ImageEnhance, ImageOps\n",
    "import numpy as np\n",
    "import random\n",
    "\n",
    "\n",
    "class ImageNetPolicy(object):\n",
    "    \"\"\" Randomly choose one of the best 24 Sub-policies on ImageNet.\n",
    "\n",
    "        Example:\n",
    "        >>> policy = ImageNetPolicy()\n",
    "        >>> transformed = policy(image)\n",
    "\n",
    "        Example as a PyTorch Transform:\n",
    "        >>> transform=transforms.Compose([\n",
    "        >>>     transforms.Resize(256),\n",
    "        >>>     ImageNetPolicy(),\n",
    "        >>>     transforms.ToTensor()])\n",
    "    \"\"\"\n",
    "    def __init__(self, fillcolor=(128, 128, 128)):\n",
    "        self.policies = [\n",
    "            SubPolicy(0.4, \"posterize\", 8, 0.6, \"rotate\", 9, fillcolor),\n",
    "            SubPolicy(0.6, \"solarize\", 5, 0.6, \"autocontrast\", 5, fillcolor),\n",
    "            SubPolicy(0.8, \"equalize\", 8, 0.6, \"equalize\", 3, fillcolor),\n",
    "            SubPolicy(0.6, \"posterize\", 7, 0.6, \"posterize\", 6, fillcolor),\n",
    "            SubPolicy(0.4, \"equalize\", 7, 0.2, \"solarize\", 4, fillcolor),\n",
    "\n",
    "            SubPolicy(0.4, \"equalize\", 4, 0.8, \"rotate\", 8, fillcolor),\n",
    "            SubPolicy(0.6, \"solarize\", 3, 0.6, \"equalize\", 7, fillcolor),\n",
    "            SubPolicy(0.8, \"posterize\", 5, 1.0, \"equalize\", 2, fillcolor),\n",
    "            SubPolicy(0.2, \"rotate\", 3, 0.6, \"solarize\", 8, fillcolor),\n",
    "            SubPolicy(0.6, \"equalize\", 8, 0.4, \"posterize\", 6, fillcolor),\n",
    "\n",
    "            SubPolicy(0.8, \"rotate\", 8, 0.4, \"color\", 0, fillcolor),\n",
    "            SubPolicy(0.4, \"rotate\", 9, 0.6, \"equalize\", 2, fillcolor),\n",
    "            SubPolicy(0.0, \"equalize\", 7, 0.8, \"equalize\", 8, fillcolor),\n",
    "            SubPolicy(0.6, \"invert\", 4, 1.0, \"equalize\", 8, fillcolor),\n",
    "            SubPolicy(0.6, \"color\", 4, 1.0, \"contrast\", 8, fillcolor),\n",
    "\n",
    "            SubPolicy(0.8, \"rotate\", 8, 1.0, \"color\", 2, fillcolor),\n",
    "            SubPolicy(0.8, \"color\", 8, 0.8, \"solarize\", 7, fillcolor),\n",
    "            SubPolicy(0.4, \"sharpness\", 7, 0.6, \"invert\", 8, fillcolor),\n",
    "            SubPolicy(0.6, \"shearX\", 5, 1.0, \"equalize\", 9, fillcolor),\n",
    "            SubPolicy(0.4, \"color\", 0, 0.6, \"equalize\", 3, fillcolor),\n",
    "\n",
    "            SubPolicy(0.4, \"equalize\", 7, 0.2, \"solarize\", 4, fillcolor),\n",
    "            SubPolicy(0.6, \"solarize\", 5, 0.6, \"autocontrast\", 5, fillcolor),\n",
    "            SubPolicy(0.6, \"invert\", 4, 1.0, \"equalize\", 8, fillcolor),\n",
    "            SubPolicy(0.6, \"color\", 4, 1.0, \"contrast\", 8, fillcolor),\n",
    "            SubPolicy(0.8, \"equalize\", 8, 0.6, \"equalize\", 3, fillcolor)\n",
    "        ]\n",
    "\n",
    "\n",
    "    def __call__(self, img):\n",
    "        policy_idx = random.randint(0, len(self.policies) - 1)\n",
    "        return self.policies[policy_idx](img)\n",
    "\n",
    "    def __repr__(self):\n",
    "        return \"AutoAugment ImageNet Policy\"\n",
    "\n",
    "\n",
    "class CIFAR10Policy(object):\n",
    "    \"\"\" Randomly choose one of the best 25 Sub-policies on CIFAR10.\n",
    "\n",
    "        Example:\n",
    "        >>> policy = CIFAR10Policy()\n",
    "        >>> transformed = policy(image)\n",
    "\n",
    "        Example as a PyTorch Transform:\n",
    "        >>> transform=transforms.Compose([\n",
    "        >>>     transforms.Resize(256),\n",
    "        >>>     CIFAR10Policy(),\n",
    "        >>>     transforms.ToTensor()])\n",
    "    \"\"\"\n",
    "    def __init__(self, fillcolor=(128, 128, 128)):\n",
    "        self.policies = [\n",
    "            SubPolicy(0.1, \"invert\", 7, 0.2, \"contrast\", 6, fillcolor),\n",
    "            SubPolicy(0.7, \"rotate\", 2, 0.3, \"translateX\", 9, fillcolor),\n",
    "            SubPolicy(0.8, \"sharpness\", 1, 0.9, \"sharpness\", 3, fillcolor),\n",
    "            SubPolicy(0.5, \"shearY\", 8, 0.7, \"translateY\", 9, fillcolor),\n",
    "            SubPolicy(0.5, \"autocontrast\", 8, 0.9, \"equalize\", 2, fillcolor),\n",
    "\n",
    "            SubPolicy(0.2, \"shearY\", 7, 0.3, \"posterize\", 7, fillcolor),\n",
    "            SubPolicy(0.4, \"color\", 3, 0.6, \"brightness\", 7, fillcolor),\n",
    "            SubPolicy(0.3, \"sharpness\", 9, 0.7, \"brightness\", 9, fillcolor),\n",
    "            SubPolicy(0.6, \"equalize\", 5, 0.5, \"equalize\", 1, fillcolor),\n",
    "            SubPolicy(0.6, \"contrast\", 7, 0.6, \"sharpness\", 5, fillcolor),\n",
    "\n",
    "            SubPolicy(0.7, \"color\", 7, 0.5, \"translateX\", 8, fillcolor),\n",
    "            SubPolicy(0.3, \"equalize\", 7, 0.4, \"autocontrast\", 8, fillcolor),\n",
    "            SubPolicy(0.4, \"translateY\", 3, 0.2, \"sharpness\", 6, fillcolor),\n",
    "            SubPolicy(0.9, \"brightness\", 6, 0.2, \"color\", 8, fillcolor),\n",
    "            SubPolicy(0.5, \"solarize\", 2, 0.0, \"invert\", 3, fillcolor),\n",
    "\n",
    "            SubPolicy(0.2, \"equalize\", 0, 0.6, \"autocontrast\", 0, fillcolor),\n",
    "            SubPolicy(0.2, \"equalize\", 8, 0.8, \"equalize\", 4, fillcolor),\n",
    "            SubPolicy(0.9, \"color\", 9, 0.6, \"equalize\", 6, fillcolor),\n",
    "            SubPolicy(0.8, \"autocontrast\", 4, 0.2, \"solarize\", 8, fillcolor),\n",
    "            SubPolicy(0.1, \"brightness\", 3, 0.7, \"color\", 0, fillcolor),\n",
    "\n",
    "            SubPolicy(0.4, \"solarize\", 5, 0.9, \"autocontrast\", 3, fillcolor),\n",
    "            SubPolicy(0.9, \"translateY\", 9, 0.7, \"translateY\", 9, fillcolor),\n",
    "            SubPolicy(0.9, \"autocontrast\", 2, 0.8, \"solarize\", 3, fillcolor),\n",
    "            SubPolicy(0.8, \"equalize\", 8, 0.1, \"invert\", 3, fillcolor),\n",
    "            SubPolicy(0.7, \"translateY\", 9, 0.9, \"autocontrast\", 1, fillcolor)\n",
    "        ]\n",
    "\n",
    "\n",
    "    def __call__(self, img):\n",
    "        policy_idx = random.randint(0, len(self.policies) - 1)\n",
    "        return self.policies[policy_idx](img)\n",
    "\n",
    "    def __repr__(self):\n",
    "        return \"AutoAugment CIFAR10 Policy\"\n",
    "\n",
    "\n",
    "class SVHNPolicy(object):\n",
    "    \"\"\" Randomly choose one of the best 25 Sub-policies on SVHN.\n",
    "\n",
    "        Example:\n",
    "        >>> policy = SVHNPolicy()\n",
    "        >>> transformed = policy(image)\n",
    "\n",
    "        Example as a PyTorch Transform:\n",
    "        >>> transform=transforms.Compose([\n",
    "        >>>     transforms.Resize(256),\n",
    "        >>>     SVHNPolicy(),\n",
    "        >>>     transforms.ToTensor()])\n",
    "    \"\"\"\n",
    "    def __init__(self, fillcolor=(128, 128, 128)):\n",
    "        self.policies = [\n",
    "            SubPolicy(0.9, \"shearX\", 4, 0.2, \"invert\", 3, fillcolor),\n",
    "            SubPolicy(0.9, \"shearY\", 8, 0.7, \"invert\", 5, fillcolor),\n",
    "            SubPolicy(0.6, \"equalize\", 5, 0.6, \"solarize\", 6, fillcolor),\n",
    "            SubPolicy(0.9, \"invert\", 3, 0.6, \"equalize\", 3, fillcolor),\n",
    "            SubPolicy(0.6, \"equalize\", 1, 0.9, \"rotate\", 3, fillcolor),\n",
    "\n",
    "            SubPolicy(0.9, \"shearX\", 4, 0.8, \"autocontrast\", 3, fillcolor),\n",
    "            SubPolicy(0.9, \"shearY\", 8, 0.4, \"invert\", 5, fillcolor),\n",
    "            SubPolicy(0.9, \"shearY\", 5, 0.2, \"solarize\", 6, fillcolor),\n",
    "            SubPolicy(0.9, \"invert\", 6, 0.8, \"autocontrast\", 1, fillcolor),\n",
    "            SubPolicy(0.6, \"equalize\", 3, 0.9, \"rotate\", 3, fillcolor),\n",
    "\n",
    "            SubPolicy(0.9, \"shearX\", 4, 0.3, \"solarize\", 3, fillcolor),\n",
    "            SubPolicy(0.8, \"shearY\", 8, 0.7, \"invert\", 4, fillcolor),\n",
    "            SubPolicy(0.9, \"equalize\", 5, 0.6, \"translateY\", 6, fillcolor),\n",
    "            SubPolicy(0.9, \"invert\", 4, 0.6, \"equalize\", 7, fillcolor),\n",
    "            SubPolicy(0.3, \"contrast\", 3, 0.8, \"rotate\", 4, fillcolor),\n",
    "\n",
    "            SubPolicy(0.8, \"invert\", 5, 0.0, \"translateY\", 2, fillcolor),\n",
    "            SubPolicy(0.7, \"shearY\", 6, 0.4, \"solarize\", 8, fillcolor),\n",
    "            SubPolicy(0.6, \"invert\", 4, 0.8, \"rotate\", 4, fillcolor),\n",
    "            SubPolicy(0.3, \"shearY\", 7, 0.9, \"translateX\", 3, fillcolor),\n",
    "            SubPolicy(0.1, \"shearX\", 6, 0.6, \"invert\", 5, fillcolor),\n",
    "\n",
    "            SubPolicy(0.7, \"solarize\", 2, 0.6, \"translateY\", 7, fillcolor),\n",
    "            SubPolicy(0.8, \"shearY\", 4, 0.8, \"invert\", 8, fillcolor),\n",
    "            SubPolicy(0.7, \"shearX\", 9, 0.8, \"translateY\", 3, fillcolor),\n",
    "            SubPolicy(0.8, \"shearY\", 5, 0.7, \"autocontrast\", 3, fillcolor),\n",
    "            SubPolicy(0.7, \"shearX\", 2, 0.1, \"invert\", 5, fillcolor)\n",
    "        ]\n",
    "\n",
    "\n",
    "    def __call__(self, img):\n",
    "        policy_idx = random.randint(0, len(self.policies) - 1)\n",
    "        return self.policies[policy_idx](img)\n",
    "\n",
    "    def __repr__(self):\n",
    "        return \"AutoAugment SVHN Policy\"\n",
    "\n",
    "\n",
    "class SubPolicy(object):\n",
    "    def __init__(self, p1, operation1, magnitude_idx1, p2, operation2, magnitude_idx2, fillcolor=(128, 128, 128)):\n",
    "        ranges = {\n",
    "            \"shearX\": np.linspace(0, 0.3, 10),\n",
    "            \"shearY\": np.linspace(0, 0.3, 10),\n",
    "            \"translateX\": np.linspace(0, 150 / 331, 10),\n",
    "            \"translateY\": np.linspace(0, 150 / 331, 10),\n",
    "            \"rotate\": np.linspace(0, 30, 10),\n",
    "            \"color\": np.linspace(0.0, 0.9, 10),\n",
    "            \"posterize\": np.round(np.linspace(8, 4, 10), 0).astype(np.int),\n",
    "            \"solarize\": np.linspace(256, 0, 10),\n",
    "            \"contrast\": np.linspace(0.0, 0.9, 10),\n",
    "            \"sharpness\": np.linspace(0.0, 0.9, 10),\n",
    "            \"brightness\": np.linspace(0.0, 0.9, 10),\n",
    "            \"autocontrast\": [0] * 10,\n",
    "            \"equalize\": [0] * 10,\n",
    "            \"invert\": [0] * 10\n",
    "        }\n",
    "\n",
    "        # from https://stackoverflow.com/questions/5252170/specify-image-filling-color-when-rotating-in-python-with-pil-and-setting-expand\n",
    "        def rotate_with_fill(img, magnitude):\n",
    "            rot = img.convert(\"RGBA\").rotate(magnitude)\n",
    "            return Image.composite(rot, Image.new(\"RGBA\", rot.size, (128,) * 4), rot).convert(img.mode)\n",
    "\n",
    "        func = {\n",
    "            \"shearX\": lambda img, magnitude: img.transform(\n",
    "                img.size, Image.AFFINE, (1, magnitude * random.choice([-1, 1]), 0, 0, 1, 0),\n",
    "                Image.BICUBIC, fillcolor=fillcolor),\n",
    "            \"shearY\": lambda img, magnitude: img.transform(\n",
    "                img.size, Image.AFFINE, (1, 0, 0, magnitude * random.choice([-1, 1]), 1, 0),\n",
    "                Image.BICUBIC, fillcolor=fillcolor),\n",
    "            \"translateX\": lambda img, magnitude: img.transform(\n",
    "                img.size, Image.AFFINE, (1, 0, magnitude * img.size[0] * random.choice([-1, 1]), 0, 1, 0),\n",
    "                fillcolor=fillcolor),\n",
    "            \"translateY\": lambda img, magnitude: img.transform(\n",
    "                img.size, Image.AFFINE, (1, 0, 0, 0, 1, magnitude * img.size[1] * random.choice([-1, 1])),\n",
    "                fillcolor=fillcolor),\n",
    "            \"rotate\": lambda img, magnitude: rotate_with_fill(img, magnitude),\n",
    "            # \"rotate\": lambda img, magnitude: img.rotate(magnitude * random.choice([-1, 1])),\n",
    "            \"color\": lambda img, magnitude: ImageEnhance.Color(img).enhance(1 + magnitude * random.choice([-1, 1])),\n",
    "            \"posterize\": lambda img, magnitude: ImageOps.posterize(img, magnitude),\n",
    "            \"solarize\": lambda img, magnitude: ImageOps.solarize(img, magnitude),\n",
    "            \"contrast\": lambda img, magnitude: ImageEnhance.Contrast(img).enhance(\n",
    "                1 + magnitude * random.choice([-1, 1])),\n",
    "            \"sharpness\": lambda img, magnitude: ImageEnhance.Sharpness(img).enhance(\n",
    "                1 + magnitude * random.choice([-1, 1])),\n",
    "            \"brightness\": lambda img, magnitude: ImageEnhance.Brightness(img).enhance(\n",
    "                1 + magnitude * random.choice([-1, 1])),\n",
    "            \"autocontrast\": lambda img, magnitude: ImageOps.autocontrast(img),\n",
    "            \"equalize\": lambda img, magnitude: ImageOps.equalize(img),\n",
    "            \"invert\": lambda img, magnitude: ImageOps.invert(img)\n",
    "        }\n",
    "\n",
    "        # self.name = \"{}_{:.2f}_and_{}_{:.2f}\".format(\n",
    "        #     operation1, ranges[operation1][magnitude_idx1],\n",
    "        #     operation2, ranges[operation2][magnitude_idx2])\n",
    "        self.p1 = p1\n",
    "        self.operation1 = func[operation1]\n",
    "        self.magnitude1 = ranges[operation1][magnitude_idx1]\n",
    "        self.p2 = p2\n",
    "        self.operation2 = func[operation2]\n",
    "        self.magnitude2 = ranges[operation2][magnitude_idx2]\n",
    "\n",
    "\n",
    "    def __call__(self, img):\n",
    "        if random.random() < self.p1: img = self.operation1(img, self.magnitude1)\n",
    "        if random.random() < self.p2: img = self.operation2(img, self.magnitude2)\n",
    "        return img"
   ]
  },
  {
   "cell_type": "code",
   "execution_count": 39,
   "metadata": {},
   "outputs": [
    {
     "name": "stdout",
     "output_type": "stream",
     "text": [
      "/Users/sebastian/git_repos/data_science/ship_detection/ship-detection-challenge/augmentation\r\n"
     ]
    }
   ],
   "source": [
    "!pwd"
   ]
  },
  {
   "cell_type": "markdown",
   "metadata": {},
   "source": [
    "# Test ImageNet Policy"
   ]
  },
  {
   "cell_type": "code",
   "execution_count": 40,
   "metadata": {
    "ExecuteTime": {
     "end_time": "2018-07-11T21:51:56.817769Z",
     "start_time": "2018-07-11T21:51:56.291586Z"
    }
   },
   "outputs": [
    {
     "data": {
      "image/png": "[encoded data removed]",
      "text/plain": [
       "<Figure size 720x432 with 2 Axes>"
      ]
     },
     "metadata": {
      "needs_background": "light"
     },
     "output_type": "display_data"
    }
   ],
   "source": [
    "img = Image.open(\"/Users/sebastian/git_repos/data_science/ship_detection/ship-detection-challenge/train_images/6068.png\")\n",
    "f, (ax1, ax2) = plt.subplots(1, 2, figsize=(10,6))\n",
    "ax1.imshow(img)\n",
    "img2 = Image.open(\"/Users/sebastian/git_repos/data_science/ship_detection/ship-detection-challenge/train_images/1094.png\")\n",
    "ax2.imshow(img2)\n",
    "plt.show()"
   ]
  },
  {
   "cell_type": "code",
   "execution_count": 41,
   "metadata": {
    "ExecuteTime": {
     "end_time": "2018-07-11T21:31:45.895676Z",
     "start_time": "2018-07-11T21:31:45.880190Z"
    }
   },
   "outputs": [],
   "source": [
    "def show_sixteen(images, titles=0):\n",
    "    f, axarr = plt.subplots(4, 4, figsize=(15, 15), gridspec_kw={\"wspace\": 0, \"hspace\": 0})\n",
    "    for idx, ax in enumerate(f.axes):\n",
    "        ax.imshow(images[idx])\n",
    "        ax.axis(\"off\")\n",
    "        if titles: ax.set_title(titles[idx])\n",
    "    plt.show()"
   ]
  },
  {
   "cell_type": "code",
   "execution_count": 42,
   "metadata": {
    "ExecuteTime": {
     "end_time": "2018-07-11T21:31:48.752102Z",
     "start_time": "2018-07-11T21:31:46.441502Z"
    }
   },
   "outputs": [
    {
     "data": {
      "image/png": "[encoded data removed]",
      "text/plain": [
       "<Figure size 1080x1080 with 16 Axes>"
      ]
     },
     "metadata": {
      "needs_background": "light"
     },
     "output_type": "display_data"
    },
    {
     "name": "stdout",
     "output_type": "stream",
     "text": [
      "<PIL.Image.Image image mode=RGB size=19x20 at 0x126844780>\n"
     ]
    }
   ],
   "source": [
    "policy = ImageNetPolicy()\n",
    "\n",
    "imgs = []\n",
    "for _ in range(8): imgs.append(policy(img))\n",
    "for _ in range(8): imgs.append(policy(img2))\n",
    "show_sixteen(imgs)\n",
    "print(imgs[0])"
   ]
  },
  {
   "cell_type": "code",
   "execution_count": 43,
   "metadata": {},
   "outputs": [],
   "source": [
    "import cv2\n",
    "import time\n",
    "\n",
    "def load_images(data_dir,resize=None):\n",
    "    img_list = []\n",
    "    filenames = os.listdir(data_dir)\n",
    "    for filename in filenames:\n",
    "        img_raw = Image.open(\"/Users/sebastian/git_repos/data_science/ship_detection/ship-detection-challenge/train_images/\"+filename)\n",
    "        img_list.append(img_raw)\n",
    "        time.sleep(0.1)\n",
    "\n",
    "    images = img_list\n",
    "    return images\n",
    "  \n",
    "train_dir = '/Users/sebastian/git_repos/data_science/ship_detection/ship-detection-challenge/train_images/'\n",
    "train_imgs = load_images(train_dir)"
   ]
  },
  {
   "cell_type": "code",
   "execution_count": 44,
   "metadata": {
    "ExecuteTime": {
     "end_time": "2018-07-11T21:31:49.010134Z",
     "start_time": "2018-07-11T21:31:48.755096Z"
    }
   },
   "outputs": [],
   "source": [
    "from torch.utils.data import Dataset, DataLoader\n",
    "from torchvision import transforms\n",
    "from torchvision.datasets import ImageFolder\n",
    "\n",
    "data = ImageFolder(\"/Users/sebastian/git_repos/data_science/ship_detection/ship-detection-challenge/train_images/\", transform=transforms.Compose(\n",
    "                        [transforms.Resize(256), \n",
    "                         ImageNetPolicy(), \n",
    "                         transforms.ToTensor()]))\n",
    "loader = DataLoader(train_imgs, batch_size=1)"
   ]
  },
  {
   "cell_type": "code",
   "execution_count": 34,
   "metadata": {
    "ExecuteTime": {
     "end_time": "2018-07-11T21:32:05.141213Z",
     "start_time": "2018-07-11T21:32:02.693099Z"
    }
   },
   "outputs": [
    {
     "ename": "TypeError",
     "evalue": "batch must contain tensors, numbers, dicts or lists; found <class 'PIL.JpegImagePlugin.JpegImageFile'>",
     "output_type": "error",
     "traceback": [
      "\u001b[0;31m---------------------------------------------------------------------------\u001b[0m",
      "\u001b[0;31mTypeError\u001b[0m                                 Traceback (most recent call last)",
      "\u001b[0;32m<ipython-input-34-ec7be1c37e33>\u001b[0m in \u001b[0;36m<module>\u001b[0;34m\u001b[0m\n\u001b[1;32m      2\u001b[0m \u001b[0mcount\u001b[0m \u001b[0;34m=\u001b[0m \u001b[0;36m0\u001b[0m\u001b[0;34m\u001b[0m\u001b[0m\n\u001b[1;32m      3\u001b[0m \u001b[0;32mfor\u001b[0m \u001b[0m_\u001b[0m \u001b[0;32min\u001b[0m \u001b[0mrange\u001b[0m\u001b[0;34m(\u001b[0m\u001b[0;36m10\u001b[0m\u001b[0;34m)\u001b[0m\u001b[0;34m:\u001b[0m\u001b[0;34m\u001b[0m\u001b[0m\n\u001b[0;32m----> 4\u001b[0;31m     \u001b[0;32mfor\u001b[0m \u001b[0mimg\u001b[0m \u001b[0;32min\u001b[0m \u001b[0mloader\u001b[0m\u001b[0;34m:\u001b[0m\u001b[0;34m\u001b[0m\u001b[0m\n\u001b[0m\u001b[1;32m      5\u001b[0m         \u001b[0mimg\u001b[0m \u001b[0;34m=\u001b[0m \u001b[0mnp\u001b[0m\u001b[0;34m.\u001b[0m\u001b[0mtranspose\u001b[0m\u001b[0;34m(\u001b[0m\u001b[0mimg\u001b[0m\u001b[0;34m[\u001b[0m\u001b[0;36m0\u001b[0m\u001b[0;34m]\u001b[0m\u001b[0;34m[\u001b[0m\u001b[0;36m0\u001b[0m\u001b[0;34m]\u001b[0m\u001b[0;34m.\u001b[0m\u001b[0mnumpy\u001b[0m\u001b[0;34m(\u001b[0m\u001b[0;34m)\u001b[0m\u001b[0;34m*\u001b[0m\u001b[0;36m255\u001b[0m\u001b[0;34m,\u001b[0m \u001b[0;34m(\u001b[0m\u001b[0;36m1\u001b[0m\u001b[0;34m,\u001b[0m\u001b[0;36m2\u001b[0m\u001b[0;34m,\u001b[0m\u001b[0;36m0\u001b[0m\u001b[0;34m)\u001b[0m\u001b[0;34m)\u001b[0m\u001b[0;34m.\u001b[0m\u001b[0mastype\u001b[0m\u001b[0;34m(\u001b[0m\u001b[0mnp\u001b[0m\u001b[0;34m.\u001b[0m\u001b[0muint8\u001b[0m\u001b[0;34m)\u001b[0m\u001b[0;34m\u001b[0m\u001b[0m\n\u001b[1;32m      6\u001b[0m         \u001b[0mimgs\u001b[0m\u001b[0;34m.\u001b[0m\u001b[0mappend\u001b[0m\u001b[0;34m(\u001b[0m\u001b[0mimg\u001b[0m\u001b[0;34m)\u001b[0m\u001b[0;34m\u001b[0m\u001b[0m\n",
      "\u001b[0;32m~/anaconda3/envs/ship_detection/lib/python3.6/site-packages/torch/utils/data/dataloader.py\u001b[0m in \u001b[0;36m__next__\u001b[0;34m(self)\u001b[0m\n\u001b[1;32m    558\u001b[0m         \u001b[0;32mif\u001b[0m \u001b[0mself\u001b[0m\u001b[0;34m.\u001b[0m\u001b[0mnum_workers\u001b[0m \u001b[0;34m==\u001b[0m \u001b[0;36m0\u001b[0m\u001b[0;34m:\u001b[0m  \u001b[0;31m# same-process loading\u001b[0m\u001b[0;34m\u001b[0m\u001b[0m\n\u001b[1;32m    559\u001b[0m             \u001b[0mindices\u001b[0m \u001b[0;34m=\u001b[0m \u001b[0mnext\u001b[0m\u001b[0;34m(\u001b[0m\u001b[0mself\u001b[0m\u001b[0;34m.\u001b[0m\u001b[0msample_iter\u001b[0m\u001b[0;34m)\u001b[0m  \u001b[0;31m# may raise StopIteration\u001b[0m\u001b[0;34m\u001b[0m\u001b[0m\n\u001b[0;32m--> 560\u001b[0;31m             \u001b[0mbatch\u001b[0m \u001b[0;34m=\u001b[0m \u001b[0mself\u001b[0m\u001b[0;34m.\u001b[0m\u001b[0mcollate_fn\u001b[0m\u001b[0;34m(\u001b[0m\u001b[0;34m[\u001b[0m\u001b[0mself\u001b[0m\u001b[0;34m.\u001b[0m\u001b[0mdataset\u001b[0m\u001b[0;34m[\u001b[0m\u001b[0mi\u001b[0m\u001b[0;34m]\u001b[0m \u001b[0;32mfor\u001b[0m \u001b[0mi\u001b[0m \u001b[0;32min\u001b[0m \u001b[0mindices\u001b[0m\u001b[0;34m]\u001b[0m\u001b[0;34m)\u001b[0m\u001b[0;34m\u001b[0m\u001b[0m\n\u001b[0m\u001b[1;32m    561\u001b[0m             \u001b[0;32mif\u001b[0m \u001b[0mself\u001b[0m\u001b[0;34m.\u001b[0m\u001b[0mpin_memory\u001b[0m\u001b[0;34m:\u001b[0m\u001b[0;34m\u001b[0m\u001b[0m\n\u001b[1;32m    562\u001b[0m                 \u001b[0mbatch\u001b[0m \u001b[0;34m=\u001b[0m \u001b[0m_utils\u001b[0m\u001b[0;34m.\u001b[0m\u001b[0mpin_memory\u001b[0m\u001b[0;34m.\u001b[0m\u001b[0mpin_memory_batch\u001b[0m\u001b[0;34m(\u001b[0m\u001b[0mbatch\u001b[0m\u001b[0;34m)\u001b[0m\u001b[0;34m\u001b[0m\u001b[0m\n",
      "\u001b[0;32m~/anaconda3/envs/ship_detection/lib/python3.6/site-packages/torch/utils/data/_utils/collate.py\u001b[0m in \u001b[0;36mdefault_collate\u001b[0;34m(batch)\u001b[0m\n\u001b[1;32m     68\u001b[0m         \u001b[0;32mreturn\u001b[0m \u001b[0;34m[\u001b[0m\u001b[0mdefault_collate\u001b[0m\u001b[0;34m(\u001b[0m\u001b[0msamples\u001b[0m\u001b[0;34m)\u001b[0m \u001b[0;32mfor\u001b[0m \u001b[0msamples\u001b[0m \u001b[0;32min\u001b[0m \u001b[0mtransposed\u001b[0m\u001b[0;34m]\u001b[0m\u001b[0;34m\u001b[0m\u001b[0m\n\u001b[1;32m     69\u001b[0m \u001b[0;34m\u001b[0m\u001b[0m\n\u001b[0;32m---> 70\u001b[0;31m     \u001b[0;32mraise\u001b[0m \u001b[0mTypeError\u001b[0m\u001b[0;34m(\u001b[0m\u001b[0;34m(\u001b[0m\u001b[0merror_msg_fmt\u001b[0m\u001b[0;34m.\u001b[0m\u001b[0mformat\u001b[0m\u001b[0;34m(\u001b[0m\u001b[0mtype\u001b[0m\u001b[0;34m(\u001b[0m\u001b[0mbatch\u001b[0m\u001b[0;34m[\u001b[0m\u001b[0;36m0\u001b[0m\u001b[0;34m]\u001b[0m\u001b[0;34m)\u001b[0m\u001b[0;34m)\u001b[0m\u001b[0;34m)\u001b[0m\u001b[0;34m)\u001b[0m\u001b[0;34m\u001b[0m\u001b[0m\n\u001b[0m",
      "\u001b[0;31mTypeError\u001b[0m: batch must contain tensors, numbers, dicts or lists; found <class 'PIL.JpegImagePlugin.JpegImageFile'>"
     ]
    }
   ],
   "source": [
    "imgs, count = [], 0\n",
    "count = 0\n",
    "for _ in range(10):\n",
    "    for img in loader:\n",
    "        img = np.transpose(img[0][0].numpy()*255, (1,2,0)).astype(np.uint8)\n",
    "        imgs.append(img)\n",
    "        count += 1\n",
    "        if count==16: \n",
    "            show_sixteen(imgs)\n",
    "            imgs, count = [], 0"
   ]
  },
  {
   "cell_type": "markdown",
   "metadata": {},
   "source": [
    "# Test CIFAR 10 Policy"
   ]
  },
  {
   "cell_type": "code",
   "execution_count": 78,
   "metadata": {
    "ExecuteTime": {
     "end_time": "2018-07-11T21:52:36.944155Z",
     "start_time": "2018-07-11T21:52:36.660686Z"
    }
   },
   "outputs": [
    {
     "name": "stdout",
     "output_type": "stream",
     "text": [
      "<PIL.JpegImagePlugin.JpegImageFile image mode=RGB size=640x399 at 0x1271171D0>\n",
      "<PIL.PngImagePlugin.PngImageFile image mode=RGB size=26x25 at 0x1276F92B0>\n",
      "<PIL.PngImagePlugin.PngImageFile image mode=RGB size=19x20 at 0x1276F9EB8>\n"
     ]
    }
   ],
   "source": [
    "data_dir = \"/Users/sebastian/git_repos/data_science/ship_detection/ship-detection-challenge/train_images/\"\n",
    "filenames = os.listdir(data_dir)\n",
    "imgs = []\n",
    "for filename in filenames:\n",
    "    img = Image.open(data_dir + filename)\n",
    "    print(img)\n",
    "    policy = CIFAR10Policy()\n",
    "    aug_imgs = []\n",
    "\n",
    "    for _ in range(32): aug_imgs.append(policy(img))\n",
    "    imgs.append(aug_imgs)\n"
   ]
  },
  {
   "cell_type": "code",
   "execution_count": 81,
   "metadata": {},
   "outputs": [
    {
     "data": {
      "text/plain": [
       "[[<PIL.Image.Image image mode=RGB size=640x399 at 0x126BF6B38>,\n",
       "  <PIL.Image.Image image mode=RGB size=640x399 at 0x126BF6DD8>,\n",
       "  <PIL.Image.Image image mode=RGB size=640x399 at 0x126BF6550>,\n",
       "  <PIL.Image.Image image mode=RGB size=640x399 at 0x126BF6C18>,\n",
       "  <PIL.JpegImagePlugin.JpegImageFile image mode=RGB size=640x399 at 0x1271171D0>,\n",
       "  <PIL.Image.Image image mode=RGB size=640x399 at 0x126BF6C50>,\n",
       "  <PIL.Image.Image image mode=RGB size=640x399 at 0x126BF6588>,\n",
       "  <PIL.JpegImagePlugin.JpegImageFile image mode=RGB size=640x399 at 0x1271171D0>,\n",
       "  <PIL.Image.Image image mode=RGB size=640x399 at 0x126BF6400>,\n",
       "  <PIL.Image.Image image mode=RGB size=640x399 at 0x126BF6908>,\n",
       "  <PIL.Image.Image image mode=RGB size=640x399 at 0x126BF64E0>,\n",
       "  <PIL.Image.Image image mode=RGB size=640x399 at 0x126BF61D0>,\n",
       "  <PIL.Image.Image image mode=RGB size=640x399 at 0x126BF6128>,\n",
       "  <PIL.Image.Image image mode=RGB size=640x399 at 0x127117128>,\n",
       "  <PIL.Image.Image image mode=RGB size=640x399 at 0x126BF6710>,\n",
       "  <PIL.Image.Image image mode=RGB size=640x399 at 0x1271177B8>,\n",
       "  <PIL.Image.Image image mode=RGB size=640x399 at 0x1271179E8>,\n",
       "  <PIL.Image.Image image mode=RGB size=640x399 at 0x127117E80>,\n",
       "  <PIL.Image.Image image mode=RGB size=640x399 at 0x127117BE0>,\n",
       "  <PIL.JpegImagePlugin.JpegImageFile image mode=RGB size=640x399 at 0x1271171D0>,\n",
       "  <PIL.Image.Image image mode=RGB size=640x399 at 0x127117860>,\n",
       "  <PIL.Image.Image image mode=RGB size=640x399 at 0x127117710>,\n",
       "  <PIL.Image.Image image mode=RGB size=640x399 at 0x127117EB8>,\n",
       "  <PIL.Image.Image image mode=RGB size=640x399 at 0x1271170F0>,\n",
       "  <PIL.Image.Image image mode=RGB size=640x399 at 0x1271178D0>,\n",
       "  <PIL.Image.Image image mode=RGB size=640x399 at 0x127117780>,\n",
       "  <PIL.Image.Image image mode=RGB size=640x399 at 0x1276F94E0>,\n",
       "  <PIL.JpegImagePlugin.JpegImageFile image mode=RGB size=640x399 at 0x1271171D0>,\n",
       "  <PIL.JpegImagePlugin.JpegImageFile image mode=RGB size=640x399 at 0x1271171D0>,\n",
       "  <PIL.Image.Image image mode=RGB size=640x399 at 0x1276F9358>,\n",
       "  <PIL.Image.Image image mode=RGB size=640x399 at 0x127117FD0>,\n",
       "  <PIL.Image.Image image mode=RGB size=640x399 at 0x1276F9320>],\n",
       " [<PIL.Image.Image image mode=RGB size=26x25 at 0x126844710>,\n",
       "  <PIL.Image.Image image mode=RGB size=26x25 at 0x126844400>,\n",
       "  <PIL.Image.Image image mode=RGB size=26x25 at 0x127117080>,\n",
       "  <PIL.PngImagePlugin.PngImageFile image mode=RGB size=26x25 at 0x1276F92B0>,\n",
       "  <PIL.Image.Image image mode=RGB size=26x25 at 0x1271176D8>,\n",
       "  <PIL.Image.Image image mode=RGB size=26x25 at 0x1271174E0>,\n",
       "  <PIL.Image.Image image mode=RGB size=26x25 at 0x127117A20>,\n",
       "  <PIL.Image.Image image mode=RGB size=26x25 at 0x127117048>,\n",
       "  <PIL.Image.Image image mode=RGB size=26x25 at 0x127117208>,\n",
       "  <PIL.Image.Image image mode=RGB size=26x25 at 0x1271177F0>,\n",
       "  <PIL.Image.Image image mode=RGB size=26x25 at 0x127117DA0>,\n",
       "  <PIL.Image.Image image mode=RGB size=26x25 at 0x127117AC8>,\n",
       "  <PIL.Image.Image image mode=RGB size=26x25 at 0x1271173C8>,\n",
       "  <PIL.Image.Image image mode=RGB size=26x25 at 0x127117320>,\n",
       "  <PIL.Image.Image image mode=RGB size=26x25 at 0x126BF62E8>,\n",
       "  <PIL.Image.Image image mode=RGB size=26x25 at 0x1276F9710>,\n",
       "  <PIL.Image.Image image mode=RGB size=26x25 at 0x127117BA8>,\n",
       "  <PIL.Image.Image image mode=RGB size=26x25 at 0x1276F9898>,\n",
       "  <PIL.PngImagePlugin.PngImageFile image mode=RGB size=26x25 at 0x1276F92B0>,\n",
       "  <PIL.Image.Image image mode=RGB size=26x25 at 0x1276F9A20>,\n",
       "  <PIL.PngImagePlugin.PngImageFile image mode=RGB size=26x25 at 0x1276F92B0>,\n",
       "  <PIL.Image.Image image mode=RGB size=26x25 at 0x1276F91D0>,\n",
       "  <PIL.Image.Image image mode=RGB size=26x25 at 0x1276F9908>,\n",
       "  <PIL.Image.Image image mode=RGB size=26x25 at 0x1276F9DA0>,\n",
       "  <PIL.Image.Image image mode=RGB size=26x25 at 0x1276F9748>,\n",
       "  <PIL.Image.Image image mode=RGB size=26x25 at 0x1276F9A90>,\n",
       "  <PIL.Image.Image image mode=RGB size=26x25 at 0x1276F99E8>,\n",
       "  <PIL.PngImagePlugin.PngImageFile image mode=RGB size=26x25 at 0x1276F92B0>,\n",
       "  <PIL.Image.Image image mode=RGB size=26x25 at 0x1276F9208>,\n",
       "  <PIL.PngImagePlugin.PngImageFile image mode=RGB size=26x25 at 0x1276F92B0>,\n",
       "  <PIL.Image.Image image mode=RGB size=26x25 at 0x1276F96A0>,\n",
       "  <PIL.Image.Image image mode=RGB size=26x25 at 0x1276F9CF8>],\n",
       " [<PIL.Image.Image image mode=RGB size=19x20 at 0x1276F97F0>,\n",
       "  <PIL.Image.Image image mode=RGB size=19x20 at 0x1276F9400>,\n",
       "  <PIL.Image.Image image mode=RGB size=19x20 at 0x127117518>,\n",
       "  <PIL.PngImagePlugin.PngImageFile image mode=RGB size=19x20 at 0x1276F9EB8>,\n",
       "  <PIL.Image.Image image mode=RGB size=19x20 at 0x1276F9438>,\n",
       "  <PIL.Image.Image image mode=RGB size=19x20 at 0x1276F94A8>,\n",
       "  <PIL.Image.Image image mode=RGB size=19x20 at 0x1276F9C18>,\n",
       "  <PIL.PngImagePlugin.PngImageFile image mode=RGB size=19x20 at 0x1276F9EB8>,\n",
       "  <PIL.Image.Image image mode=RGB size=19x20 at 0x1276F90B8>,\n",
       "  <PIL.Image.Image image mode=RGB size=19x20 at 0x1276F97B8>,\n",
       "  <PIL.Image.Image image mode=RGB size=19x20 at 0x1276F9E48>,\n",
       "  <PIL.Image.Image image mode=RGB size=19x20 at 0x1276F9160>,\n",
       "  <PIL.Image.Image image mode=RGB size=19x20 at 0x1276F9080>,\n",
       "  <PIL.PngImagePlugin.PngImageFile image mode=RGB size=19x20 at 0x1276F9EB8>,\n",
       "  <PIL.Image.Image image mode=RGB size=19x20 at 0x1276F90F0>,\n",
       "  <PIL.Image.Image image mode=RGB size=19x20 at 0x1276F9B00>,\n",
       "  <PIL.PngImagePlugin.PngImageFile image mode=RGB size=19x20 at 0x1276F9EB8>,\n",
       "  <PIL.PngImagePlugin.PngImageFile image mode=RGB size=19x20 at 0x1276F9EB8>,\n",
       "  <PIL.Image.Image image mode=RGB size=19x20 at 0x1276F9DD8>,\n",
       "  <PIL.Image.Image image mode=RGB size=19x20 at 0x127F77208>,\n",
       "  <PIL.PngImagePlugin.PngImageFile image mode=RGB size=19x20 at 0x1276F9EB8>,\n",
       "  <PIL.Image.Image image mode=RGB size=19x20 at 0x127F77AC8>,\n",
       "  <PIL.Image.Image image mode=RGB size=19x20 at 0x127F773C8>,\n",
       "  <PIL.Image.Image image mode=RGB size=19x20 at 0x127F77E10>,\n",
       "  <PIL.Image.Image image mode=RGB size=19x20 at 0x127F772B0>,\n",
       "  <PIL.Image.Image image mode=RGB size=19x20 at 0x127F77080>,\n",
       "  <PIL.Image.Image image mode=RGB size=19x20 at 0x127F77F28>,\n",
       "  <PIL.Image.Image image mode=RGB size=19x20 at 0x127F778D0>,\n",
       "  <PIL.Image.Image image mode=RGB size=19x20 at 0x127F77BA8>,\n",
       "  <PIL.Image.Image image mode=RGB size=19x20 at 0x127F779E8>,\n",
       "  <PIL.Image.Image image mode=RGB size=19x20 at 0x127F77C50>,\n",
       "  <PIL.Image.Image image mode=RGB size=19x20 at 0x127F77FD0>]]"
      ]
     },
     "execution_count": 81,
     "metadata": {},
     "output_type": "execute_result"
    }
   ],
   "source": [
    "imgs"
   ]
  },
  {
   "cell_type": "code",
   "execution_count": 51,
   "metadata": {
    "ExecuteTime": {
     "end_time": "2018-07-11T21:32:15.476232Z",
     "start_time": "2018-07-11T21:32:15.458089Z"
    }
   },
   "outputs": [],
   "source": [
    "def show_sixteen(images, titles=0):\n",
    "    f, axarr = plt.subplots(4, 4, figsize=(15, 15), gridspec_kw={\"wspace\": 0, \"hspace\": 0})\n",
    "    for idx, ax in enumerate(f.axes):\n",
    "        ax.imshow(images[idx])\n",
    "        ax.axis(\"off\")\n",
    "        if titles: ax.set_title(titles[idx])\n",
    "    plt.show()"
   ]
  },
  {
   "cell_type": "code",
   "execution_count": 54,
   "metadata": {
    "ExecuteTime": {
     "end_time": "2018-07-11T21:32:17.636754Z",
     "start_time": "2018-07-11T21:32:16.636625Z"
    }
   },
   "outputs": [
    {
     "name": "stdout",
     "output_type": "stream",
     "text": [
      "[<PIL.Image.Image image mode=RGB size=19x20 at 0x1147181D0>, <PIL.Image.Image image mode=RGB size=19x20 at 0x1277D2BA8>, <PIL.PngImagePlugin.PngImageFile image mode=RGB size=19x20 at 0x1268A4438>, <PIL.Image.Image image mode=RGB size=19x20 at 0x1277D2AC8>, <PIL.PngImagePlugin.PngImageFile image mode=RGB size=19x20 at 0x1268A4438>, <PIL.Image.Image image mode=RGB size=19x20 at 0x1277D25F8>, <PIL.Image.Image image mode=RGB size=19x20 at 0x114718EB8>, <PIL.Image.Image image mode=RGB size=19x20 at 0x12783D710>, <PIL.Image.Image image mode=RGB size=19x20 at 0x12783D9E8>, <PIL.PngImagePlugin.PngImageFile image mode=RGB size=19x20 at 0x1268A4438>, <PIL.PngImagePlugin.PngImageFile image mode=RGB size=19x20 at 0x1268A4438>, <PIL.Image.Image image mode=RGB size=19x20 at 0x12783D128>, <PIL.Image.Image image mode=RGB size=19x20 at 0x127800E80>, <PIL.Image.Image image mode=RGB size=19x20 at 0x127800278>, <PIL.Image.Image image mode=RGB size=19x20 at 0x12783D828>, <PIL.Image.Image image mode=RGB size=19x20 at 0x127800208>]\n"
     ]
    },
    {
     "data": {
      "image/png": "[encoded data removed]",
      "text/plain": [
       "<Figure size 1080x1080 with 16 Axes>"
      ]
     },
     "metadata": {
      "needs_background": "light"
     },
     "output_type": "display_data"
    }
   ],
   "source": [
    "policy = CIFAR10Policy()\n",
    "\n",
    "imgs = []\n",
    "for _ in range(32): imgs.append(policy(img))\n"
   ]
  },
  {
   "cell_type": "code",
   "execution_count": null,
   "metadata": {
    "ExecuteTime": {
     "end_time": "2018-07-11T21:32:21.929502Z",
     "start_time": "2018-07-11T21:32:21.899706Z"
    }
   },
   "outputs": [],
   "source": [
    "from torch.utils.data import Dataset, DataLoader\n",
    "from torchvision import transforms\n",
    "from torchvision.datasets import ImageFolder\n",
    "\n",
    "data = ImageFolder(\"data/cifar_data\", transform=transforms.Compose([\n",
    "    CIFAR10Policy(), \n",
    "    transforms.ToTensor(),\n",
    "]))\n",
    "loader = DataLoader(data, batch_size=1)"
   ]
  },
  {
   "cell_type": "code",
   "execution_count": null,
   "metadata": {
    "ExecuteTime": {
     "end_time": "2018-07-11T21:32:28.267141Z",
     "start_time": "2018-07-11T21:32:27.273048Z"
    }
   },
   "outputs": [],
   "source": [
    "imgs, count = [], 0\n",
    "for _ in range(10):\n",
    "    for img_ in loader:\n",
    "        img_ = np.transpose(img_[0][0].numpy()*255, (1,2,0)).astype(np.uint8)\n",
    "        imgs.append(img_)\n",
    "        count += 1\n",
    "        if count==16: \n",
    "            show_sixteen(imgs)\n",
    "            imgs, count = [], 0"
   ]
  },
  {
   "cell_type": "markdown",
   "metadata": {},
   "source": [
    "# Test SVHN Policy"
   ]
  },
  {
   "cell_type": "code",
   "execution_count": null,
   "metadata": {
    "ExecuteTime": {
     "end_time": "2018-07-11T21:52:43.969727Z",
     "start_time": "2018-07-11T21:52:43.711479Z"
    }
   },
   "outputs": [],
   "source": [
    "img = Image.open(\"images/svhn_1.png\")\n",
    "f, (ax1, ax2) = plt.subplots(1, 2, figsize=(10,6))\n",
    "ax1.imshow(img)\n",
    "img2 = Image.open(\"images/svhn_2.png\")\n",
    "ax2.imshow(img2)\n",
    "plt.show()"
   ]
  },
  {
   "cell_type": "code",
   "execution_count": null,
   "metadata": {
    "ExecuteTime": {
     "end_time": "2018-07-11T21:32:32.509856Z",
     "start_time": "2018-07-11T21:32:32.489184Z"
    }
   },
   "outputs": [],
   "source": [
    "def show_sixteen(images, titles=0):\n",
    "    f, axarr = plt.subplots(4, 4, figsize=(15, 15), gridspec_kw={\"wspace\": 0, \"hspace\": 0})\n",
    "    for idx, ax in enumerate(f.axes):\n",
    "        ax.imshow(images[idx])\n",
    "        ax.axis(\"off\")\n",
    "        if titles: ax.set_title(titles[idx])\n",
    "    plt.show()"
   ]
  },
  {
   "cell_type": "code",
   "execution_count": null,
   "metadata": {
    "ExecuteTime": {
     "end_time": "2018-07-11T21:32:34.000455Z",
     "start_time": "2018-07-11T21:32:33.067285Z"
    }
   },
   "outputs": [],
   "source": [
    "policy = SVHNPolicy()\n",
    "\n",
    "imgs = []\n",
    "for _ in range(8): imgs.append(policy(img))\n",
    "for _ in range(8): imgs.append(policy(img2))\n",
    "show_sixteen(imgs)"
   ]
  },
  {
   "cell_type": "code",
   "execution_count": null,
   "metadata": {
    "ExecuteTime": {
     "end_time": "2018-07-11T21:32:34.892736Z",
     "start_time": "2018-07-11T21:32:34.851539Z"
    }
   },
   "outputs": [],
   "source": [
    "from torch.utils.data import Dataset, DataLoader\n",
    "from torchvision import transforms\n",
    "from torchvision.datasets import ImageFolder\n",
    "\n",
    "data = ImageFolder(\"data/svhn_data\", transform=transforms.Compose([\n",
    "    SVHNPolicy(), \n",
    "    transforms.ToTensor(),\n",
    "]))\n",
    "loader = DataLoader(data, batch_size=1)"
   ]
  },
  {
   "cell_type": "code",
   "execution_count": null,
   "metadata": {
    "ExecuteTime": {
     "end_time": "2018-07-11T21:32:36.883288Z",
     "start_time": "2018-07-11T21:32:35.872755Z"
    }
   },
   "outputs": [],
   "source": [
    "imgs, count = [], 0\n",
    "for _ in range(10):\n",
    "    for img_ in loader:\n",
    "        img_ = np.transpose(img_[0][0].numpy()*255, (1,2,0)).astype(np.uint8)\n",
    "        imgs.append(img_)\n",
    "        count += 1\n",
    "        if count==16: \n",
    "            show_sixteen(imgs)\n",
    "            imgs, count = [], 0"
   ]
  },
  {
   "cell_type": "markdown",
   "metadata": {},
   "source": [
    "# Examples of augmentations and ranges used in the ImageNet Policy"
   ]
  },
  {
   "cell_type": "markdown",
   "metadata": {},
   "source": [
    "The ImageNet policy is only using 7 out of 16 possible image operations, focusing on color-based transformations and rotations."
   ]
  },
  {
   "cell_type": "code",
   "execution_count": null,
   "metadata": {
    "ExecuteTime": {
     "end_time": "2018-07-11T21:33:45.203192Z",
     "start_time": "2018-07-11T21:33:45.174397Z"
    }
   },
   "outputs": [],
   "source": [
    "ranges = {\n",
    "            \"shearX\": np.linspace(0, 0.3, 10),\n",
    "            \"shearY\": np.linspace(0, 0.3, 10),\n",
    "            \"translateX\": np.linspace(0, 150 / 331, 10),\n",
    "            \"translateY\": np.linspace(0, 150 / 331, 10),\n",
    "            \"rotate\": np.linspace(0, 30, 10),\n",
    "            \"color\": np.linspace(0.0, 0.9, 10),\n",
    "            \"posterize\": np.round(np.linspace(8, 4, 10), 0).astype(np.int),\n",
    "            \"solarize\": np.linspace(256, 0, 10),\n",
    "            \"contrast\": np.linspace(0.0, 0.9, 10),\n",
    "            \"sharpness\": np.linspace(0.0, 0.9, 10),\n",
    "            \"brightness\": np.linspace(0.0, 0.9, 10),\n",
    "            \"autocontrast\": [0] * 10,\n",
    "            \"equalize\": [0] * 10,\n",
    "            \"invert\": [0] * 10\n",
    "        }"
   ]
  },
  {
   "cell_type": "code",
   "execution_count": null,
   "metadata": {
    "ExecuteTime": {
     "end_time": "2018-07-11T21:33:45.641944Z",
     "start_time": "2018-07-11T21:33:45.599294Z"
    }
   },
   "outputs": [],
   "source": [
    "img = Image.open(\"Cat03.jpg\")\n",
    "img = img.resize((300, 300))\n",
    "# img"
   ]
  },
  {
   "cell_type": "markdown",
   "metadata": {},
   "source": [
    "## Helper functions"
   ]
  },
  {
   "cell_type": "code",
   "execution_count": null,
   "metadata": {
    "ExecuteTime": {
     "end_time": "2018-07-11T21:33:46.550330Z",
     "start_time": "2018-07-11T21:33:46.524192Z"
    }
   },
   "outputs": [],
   "source": [
    "def show_enhanced_and_original(enhanced_img, titles=0):\n",
    "    f, axarr = plt.subplots(1, 2, figsize=(10, 6))\n",
    "    axarr[0].imshow(img)\n",
    "    axarr[0].axis(\"off\")\n",
    "    axarr[0].set_title(titles[0])\n",
    "    axarr[1].imshow(enhanced_img)\n",
    "    axarr[1].axis(\"off\")\n",
    "    axarr[1].set_title(titles[1])\n",
    "    plt.show()\n",
    "\n",
    "def show_three_magnitutes_and_original(images, titles=0):\n",
    "    f, axarr = plt.subplots(1, 4, figsize=(20, 10))\n",
    "    for idx, ax in enumerate(axarr):\n",
    "        if idx==0: ax.imshow(img)\n",
    "        else: ax.imshow(images[idx-1])\n",
    "        ax.axis(\"off\")\n",
    "        if titles: ax.set_title(titles[idx])\n",
    "    plt.show()"
   ]
  },
  {
   "cell_type": "markdown",
   "metadata": {},
   "source": [
    "## Augmentations"
   ]
  },
  {
   "cell_type": "code",
   "execution_count": null,
   "metadata": {
    "ExecuteTime": {
     "end_time": "2018-07-11T21:34:37.602960Z",
     "start_time": "2018-07-11T21:34:36.958331Z"
    }
   },
   "outputs": [],
   "source": [
    "def rotate_with_fill(img, magnitude):\n",
    "    im2 = img.convert(\"RGBA\")\n",
    "    rot = im2.rotate(magnitude)\n",
    "    fff = Image.new(\"RGBA\", rot.size, (128,) * 4)\n",
    "    out = Image.composite(rot, fff, rot)\n",
    "    return out.convert(img.mode)\n",
    "\n",
    "enhance_key = \"rotate\"\n",
    "show_three_magnitutes_and_original(\n",
    "    images=[rotate_with_fill(img, ranges[enhance_key][3] * random.choice([-1, 1])), \n",
    "            rotate_with_fill(img, ranges[enhance_key][6] * random.choice([-1, 1])), \n",
    "            rotate_with_fill(img, ranges[enhance_key][9] * random.choice([-1, 1]))], \n",
    "    titles=[\"ROTATION\", \"{:.1f} DEGREES\".format(ranges[enhance_key][3]), \n",
    "            \"{:.1f} DEGREES\".format(ranges[enhance_key][6]), \n",
    "            \"{:.1f} DEGREES\".format(ranges[enhance_key][9])])"
   ]
  },
  {
   "cell_type": "code",
   "execution_count": null,
   "metadata": {
    "ExecuteTime": {
     "end_time": "2018-06-18T21:19:13.179893Z",
     "start_time": "2018-06-18T21:19:12.506893Z"
    },
    "scrolled": true
   },
   "outputs": [],
   "source": [
    "enhance_key = \"color\"\n",
    "enhancer = ImageEnhance.Color(img)\n",
    "show_three_magnitutes_and_original(\n",
    "    images=[enhancer.enhance(1 + ranges[enhance_key][3] * random.choice([-1, 1])), \n",
    "            enhancer.enhance(1 + ranges[enhance_key][6] * random.choice([-1, 1])), \n",
    "            enhancer.enhance(1 + ranges[enhance_key][9] * random.choice([-1, 1]))],\n",
    "    titles=[\"ADJUST COLOR BALANCE\", \"{:.1f} MAGNITUDE\".format(ranges[enhance_key][3]), \n",
    "            \"{:.1f} MAGNITUDE\".format(ranges[enhance_key][6]), \n",
    "            \"{:.1f} MAGNITUDE\".format(ranges[enhance_key][9])])"
   ]
  },
  {
   "cell_type": "code",
   "execution_count": null,
   "metadata": {
    "ExecuteTime": {
     "end_time": "2018-06-18T21:19:21.240690Z",
     "start_time": "2018-06-18T21:19:20.544062Z"
    }
   },
   "outputs": [],
   "source": [
    "enhance_key = \"sharpness\"\n",
    "enhancer = ImageEnhance.Sharpness(img)\n",
    "show_three_magnitutes_and_original(\n",
    "    images=[enhancer.enhance(1 + ranges[enhance_key][3] * random.choice([-1, 1])), \n",
    "            enhancer.enhance(1 + ranges[enhance_key][6] * random.choice([-1, 1])), \n",
    "            enhancer.enhance(1 + ranges[enhance_key][9] * random.choice([-1, 1]))],\n",
    "    titles=[\"ADJUST SHARPNESS\", \"{:.1f} MAGNITUDE\".format(ranges[enhance_key][3]),\n",
    "            \"{:.1f} MAGNITUDE\".format(ranges[enhance_key][6]), \n",
    "            \"{:.1f} MAGNITUDE\".format(ranges[enhance_key][9])])"
   ]
  },
  {
   "cell_type": "code",
   "execution_count": null,
   "metadata": {
    "ExecuteTime": {
     "end_time": "2018-06-18T21:20:18.577283Z",
     "start_time": "2018-06-18T21:20:17.790461Z"
    }
   },
   "outputs": [],
   "source": [
    "enhance_key = \"contrast\"\n",
    "enhancer = ImageEnhance.Contrast(img)\n",
    "show_three_magnitutes_and_original(\n",
    "    images=[enhancer.enhance(1 + ranges[enhance_key][3] * random.choice([-1, 1])),\n",
    "            enhancer.enhance(1 + ranges[enhance_key][6] * random.choice([-1, 1])), \n",
    "            enhancer.enhance(1 + ranges[enhance_key][9] * random.choice([-1, 1]))],\n",
    "    titles=[\"ADJUST CONTRAST\", \"{:.1f} MAGNITUDE\".format(ranges[enhance_key][3]),\n",
    "            \"{:.1f} MAGNITUDE\".format(ranges[enhance_key][6]), \n",
    "            \"{:.1f} MAGNITUDE\".format(ranges[enhance_key][9])])"
   ]
  },
  {
   "cell_type": "code",
   "execution_count": null,
   "metadata": {
    "ExecuteTime": {
     "end_time": "2018-06-18T21:20:28.796610Z",
     "start_time": "2018-06-18T21:20:28.468965Z"
    }
   },
   "outputs": [],
   "source": [
    "img_enhanced = ImageOps.autocontrast(img) # remaps darkest pixel to 0 and lightest to 255\n",
    "show_enhanced_and_original(img_enhanced, titles=[\"AUTOCONTRAST OFF\", \"AUTOCONTRAST ON\"])"
   ]
  },
  {
   "cell_type": "code",
   "execution_count": null,
   "metadata": {
    "ExecuteTime": {
     "end_time": "2018-06-18T21:20:29.727035Z",
     "start_time": "2018-06-18T21:20:29.350284Z"
    }
   },
   "outputs": [],
   "source": [
    "img_enhanced = ImageOps.equalize(img) # equalizes the color histogram\n",
    "show_enhanced_and_original(img_enhanced, titles=[\"EQUALIZE OFF\", \"EQUALIZE ON\"])"
   ]
  },
  {
   "cell_type": "code",
   "execution_count": null,
   "metadata": {
    "ExecuteTime": {
     "end_time": "2018-06-18T21:20:30.815103Z",
     "start_time": "2018-06-18T21:20:30.432172Z"
    }
   },
   "outputs": [],
   "source": [
    "img_enhanced = ImageOps.invert(img) # inverts the pixel values, e.g. 55 --> 200\n",
    "show_enhanced_and_original(img_enhanced, titles=[\"INVERT OFF\", \"INVERT ON\"])"
   ]
  },
  {
   "cell_type": "code",
   "execution_count": null,
   "metadata": {
    "ExecuteTime": {
     "end_time": "2018-06-18T21:20:51.225515Z",
     "start_time": "2018-06-18T21:20:50.604803Z"
    },
    "scrolled": true
   },
   "outputs": [],
   "source": [
    "# reduces the number of bits for each color channel\n",
    "enhance_key = \"posterize\"\n",
    "show_three_magnitutes_and_original(\n",
    "    images=[ImageOps.posterize(img, ranges[enhance_key][3]) ,\n",
    "            ImageOps.posterize(img, ranges[enhance_key][6]) ,\n",
    "            ImageOps.posterize(img, ranges[enhance_key][9])],\n",
    "    titles=[\"POSTERIZE: REDUCE NUMBER OF BITS\", \"{:.0f} BITS\".format(ranges[enhance_key][3]),\n",
    "            \"{:.0f} BITS\".format(ranges[enhance_key][6]), \n",
    "            \"{:.0f} BITS\".format(ranges[enhance_key][9])])"
   ]
  },
  {
   "cell_type": "code",
   "execution_count": null,
   "metadata": {
    "ExecuteTime": {
     "end_time": "2018-06-18T21:21:14.335443Z",
     "start_time": "2018-06-18T21:21:13.596412Z"
    }
   },
   "outputs": [],
   "source": [
    "# inverts all pixel values above a threshold\n",
    "enhance_key = \"solarize\"\n",
    "show_three_magnitutes_and_original(\n",
    "    images=[ImageOps.solarize(img, ranges[enhance_key][3]), \n",
    "            ImageOps.solarize(img, ranges[enhance_key][6]), \n",
    "            ImageOps.solarize(img, ranges[enhance_key][9])],\n",
    "    titles=[\"SOLARIZE: INVERT PIXELS ABOVE THRESHOLD\", \n",
    "            \"{:.0f} THRESHOLD\".format(ranges[enhance_key][3]), \n",
    "            \"{:.0f} THRESHOLD\".format(ranges[enhance_key][6]), \n",
    "            \"{:.0f} THRESHOLD\".format(ranges[enhance_key][9])])"
   ]
  },
  {
   "cell_type": "code",
   "execution_count": null,
   "metadata": {
    "ExecuteTime": {
     "end_time": "2018-06-18T21:27:48.206358Z",
     "start_time": "2018-06-18T21:27:47.723533Z"
    }
   },
   "outputs": [],
   "source": [
    "def shear_x(img, magnitude):\n",
    "    return img.transform(\n",
    "        img.size, Image.AFFINE, (1, magnitude * random.choice([-1, 1]), 0, 0, 1, 0),\n",
    "        Image.BICUBIC, fillcolor=(128, 128, 128))\n",
    "\n",
    "# shear the image along the horizontal axis\n",
    "enhance_key = \"shearX\"\n",
    "show_three_magnitutes_and_original(\n",
    "    images=[shear_x(img, ranges[enhance_key][3]),\n",
    "            shear_x(img, ranges[enhance_key][6]),\n",
    "            shear_x(img, ranges[enhance_key][9])],\n",
    "    titles=[\"SHEAR_X\", \"{:.1f} MAGNITUDE\".format(ranges[enhance_key][3]),\n",
    "            \"{:.1f} MAGNITUDE\".format(ranges[enhance_key][6]), \n",
    "            \"{:.1f} MAGNITUDE\".format(ranges[enhance_key][9])])"
   ]
  },
  {
   "cell_type": "markdown",
   "metadata": {},
   "source": [
    "# Examples of augmentations and ranges used in the CIFAR10 but not in the ImageNet Policy"
   ]
  },
  {
   "cell_type": "code",
   "execution_count": null,
   "metadata": {
    "ExecuteTime": {
     "end_time": "2018-06-18T21:24:26.362873Z",
     "start_time": "2018-06-18T21:24:26.314832Z"
    }
   },
   "outputs": [],
   "source": [
    "img = Image.open(\"horse_cifar10.png\")"
   ]
  },
  {
   "cell_type": "code",
   "execution_count": null,
   "metadata": {
    "ExecuteTime": {
     "end_time": "2018-06-18T21:26:30.603113Z",
     "start_time": "2018-06-18T21:26:30.104581Z"
    }
   },
   "outputs": [],
   "source": [
    "def translate_x(img, magnitude):\n",
    "    return img.transform(\n",
    "        img.size, Image.AFFINE, (1, 0, magnitude * img.size[0] * random.choice([-1, 1]), 0, 1, 0),\n",
    "        fillcolor=(128, 128, 128))\n",
    "\n",
    "enhance_key = \"translateX\"\n",
    "show_three_magnitutes_and_original(\n",
    "    images=[translate_x(img, ranges[enhance_key][3]), \n",
    "            translate_x(img, ranges[enhance_key][6]), \n",
    "            translate_x(img, ranges[enhance_key][9])], \n",
    "    titles=[\"TRANSLATE_X\", \"{:.1f} PIXELS\".format(ranges[enhance_key][3]*img.size[0]), \n",
    "            \"{:.1f} PIXELS\".format(ranges[enhance_key][6]*img.size[0]), \n",
    "            \"{:.1f} PIXELS\".format(ranges[enhance_key][9]*img.size[0])])"
   ]
  },
  {
   "cell_type": "code",
   "execution_count": null,
   "metadata": {
    "ExecuteTime": {
     "end_time": "2018-06-18T21:27:14.135939Z",
     "start_time": "2018-06-18T21:27:13.640882Z"
    }
   },
   "outputs": [],
   "source": [
    "def translate_y(img, magnitude):\n",
    "    return img.transform(\n",
    "        img.size, Image.AFFINE, (1, 0, 0, 0, 1, magnitude * img.size[0] * random.choice([-1, 1])),\n",
    "        fillcolor=(128, 128, 128))\n",
    "\n",
    "enhance_key = \"translateY\"\n",
    "show_three_magnitutes_and_original(\n",
    "    images=[translate_y(img, ranges[enhance_key][3]), \n",
    "            translate_y(img, ranges[enhance_key][6]), \n",
    "            translate_y(img, ranges[enhance_key][9])],  \n",
    "    titles=[\"TRANSLATE_Y\", \"{:.1f} PIXELS\".format(ranges[enhance_key][3]*img.size[1]), \n",
    "            \"{:.1f} PIXELS\".format(ranges[enhance_key][6]*img.size[1]), \n",
    "            \"{:.1f} PIXELS\".format(ranges[enhance_key][9]*img.size[1])])"
   ]
  },
  {
   "cell_type": "code",
   "execution_count": null,
   "metadata": {
    "ExecuteTime": {
     "end_time": "2018-06-18T21:28:26.710382Z",
     "start_time": "2018-06-18T21:28:26.118571Z"
    }
   },
   "outputs": [],
   "source": [
    "def shear_y(img, magnitude):\n",
    "    return img.transform(\n",
    "        img.size, Image.AFFINE, (1, 0, 0, magnitude * random.choice([-1, 1]), 1, 0),\n",
    "        Image.BICUBIC, fillcolor=(128, 128, 128))\n",
    "\n",
    "# shear the image along the horizontal axis\n",
    "enhance_key = \"shearY\"\n",
    "show_three_magnitutes_and_original(\n",
    "    images=[shear_y(img, ranges[enhance_key][3]),\n",
    "            shear_y(img, ranges[enhance_key][6]),\n",
    "            shear_y(img, ranges[enhance_key][9])],\n",
    "    titles=[\"SHEAR_Y\", \"{:.1f} MAGNITUDE\".format(ranges[enhance_key][3]),\n",
    "            \"{:.1f} MAGNITUDE\".format(ranges[enhance_key][6]), \n",
    "            \"{:.1f} MAGNITUDE\".format(ranges[enhance_key][9])])"
   ]
  },
  {
   "cell_type": "code",
   "execution_count": null,
   "metadata": {
    "ExecuteTime": {
     "end_time": "2018-06-18T21:30:11.007737Z",
     "start_time": "2018-06-18T21:30:10.523319Z"
    }
   },
   "outputs": [],
   "source": [
    "enhance_key = \"brightness\"\n",
    "enhancer = ImageEnhance.Brightness(img)\n",
    "show_three_magnitutes_and_original(\n",
    "    images=[enhancer.enhance(1 + ranges[enhance_key][3] * random.choice([-1, 1])),\n",
    "            enhancer.enhance(1 + ranges[enhance_key][6] * random.choice([-1, 1])), \n",
    "            enhancer.enhance(1 + ranges[enhance_key][9] * random.choice([-1, 1]))],\n",
    "    titles=[\"ADJUST BRIGHTNESS\", \"{:.1f} MAGNITUDE\".format(ranges[enhance_key][3]),\n",
    "            \"{:.1f} MAGNITUDE\".format(ranges[enhance_key][6]), \n",
    "            \"{:.1f} MAGNITUDE\".format(ranges[enhance_key][9])])"
   ]
  },
  {
   "cell_type": "markdown",
   "metadata": {},
   "source": [
    "# Speed Tests with pillow and pillow-simd: Not much of a difference"
   ]
  },
  {
   "cell_type": "code",
   "execution_count": null,
   "metadata": {
    "ExecuteTime": {
     "end_time": "2018-06-18T21:50:00.264496Z",
     "start_time": "2018-06-18T21:50:00.136197Z"
    }
   },
   "outputs": [],
   "source": [
    "ranges = {\n",
    "    \"shearX\": np.linspace(0, 0.3, 10),\n",
    "    \"shearY\": np.linspace(0, 0.3, 10),\n",
    "    \"translateX\": np.linspace(0, 150 / 331, 10),\n",
    "    \"translateY\": np.linspace(0, 150 / 331, 10),\n",
    "    \"rotate\": np.linspace(0, 30, 10),\n",
    "    \"color\": np.linspace(0.0, 0.9, 10),\n",
    "    \"posterize\": np.round(np.linspace(8, 4, 10), 0).astype(np.int),\n",
    "    \"solarize\": np.linspace(256, 0, 10),\n",
    "    \"contrast\": np.linspace(0.0, 0.9, 10),\n",
    "    \"sharpness\": np.linspace(0.0, 0.9, 10),\n",
    "    \"brightness\": np.linspace(0.0, 0.9, 10),\n",
    "    \"autocontrast\": [0] * 10,\n",
    "    \"equalize\": [0] * 10,\n",
    "    \"invert\": [0] * 10\n",
    "}\n",
    "\n",
    "func = {\n",
    "    \"shearX\": lambda img, magnitude: img.transform(\n",
    "        img.size, Image.AFFINE, (1, magnitude * random.choice([-1, 1]), 0, 0, 1, 0),\n",
    "        Image.BICUBIC, fillcolor=(128, 128, 128)),\n",
    "    \"shearY\": lambda img, magnitude: img.transform(\n",
    "        img.size, Image.AFFINE, (1, 0, 0, magnitude * random.choice([-1, 1]), 1, 0),\n",
    "        Image.BICUBIC, fillcolor=(128, 128, 128)),\n",
    "    \"translateX\": lambda img, magnitude: img.transform(\n",
    "        img.size, Image.AFFINE, (1, 0, magnitude * img.size[0] * random.choice([-1, 1]), 0, 1, 0),\n",
    "        fillcolor=(128, 128, 128)),\n",
    "    \"translateY\": lambda img, magnitude: img.transform(\n",
    "        img.size, Image.AFFINE, (1, 0, 0, 0, 1, magnitude * img.size[1] * random.choice([-1, 1])),\n",
    "        fillcolor=(128, 128, 128)),\n",
    "    \"rotate\": lambda img, magnitude: img.rotate(magnitude * random.choice([-1, 1])),\n",
    "    \"color\": lambda img, magnitude: ImageEnhance.Color(img).enhance(1 + magnitude * random.choice([-1, 1])),\n",
    "    \"posterize\": lambda img, magnitude: ImageOps.posterize(img, magnitude),\n",
    "    \"solarize\": lambda img, magnitude: ImageOps.solarize(img, magnitude),\n",
    "    \"contrast\": lambda img, magnitude: ImageEnhance.Contrast(img).enhance(\n",
    "        1 + magnitude * random.choice([-1, 1])),\n",
    "    \"sharpness\": lambda img, magnitude: ImageEnhance.Sharpness(img).enhance(\n",
    "        1 + magnitude * random.choice([-1, 1])),\n",
    "    \"brightness\": lambda img, magnitude: ImageEnhance.Brightness(img).enhance(\n",
    "        1 + magnitude * random.choice([-1, 1])),\n",
    "    \"autocontrast\": lambda img, magnitude: ImageOps.autocontrast(img),\n",
    "    \"equalize\": lambda img, magnitude: ImageOps.equalize(img),\n",
    "    \"invert\": lambda img, magnitude: ImageOps.invert(img)\n",
    "}"
   ]
  },
  {
   "cell_type": "code",
   "execution_count": null,
   "metadata": {
    "ExecuteTime": {
     "end_time": "2018-06-18T21:50:00.345298Z",
     "start_time": "2018-06-18T21:50:00.282951Z"
    }
   },
   "outputs": [],
   "source": [
    "img = Image.open(\"Cat02.jpg\")\n",
    "img = img.resize((int(img.size[0]/2), int(img.size[1]/2)), Image.BICUBIC)"
   ]
  },
  {
   "cell_type": "markdown",
   "metadata": {},
   "source": [
    "## Speed with pillow-5.1.0 installed with \"pip install pillow\""
   ]
  },
  {
   "cell_type": "code",
   "execution_count": null,
   "metadata": {
    "ExecuteTime": {
     "end_time": "2018-06-18T21:48:29.414039Z",
     "start_time": "2018-06-18T21:48:29.404906Z"
    }
   },
   "outputs": [],
   "source": [
    "import PIL\n",
    "PIL.__version__"
   ]
  },
  {
   "cell_type": "code",
   "execution_count": null,
   "metadata": {
    "ExecuteTime": {
     "end_time": "2018-06-18T21:49:02.807902Z",
     "start_time": "2018-06-18T21:48:48.177286Z"
    }
   },
   "outputs": [],
   "source": [
    "%timeit func[\"shearX\"](img, ranges[\"shearX\"][2])"
   ]
  },
  {
   "cell_type": "code",
   "execution_count": null,
   "metadata": {
    "ExecuteTime": {
     "end_time": "2018-06-18T21:49:04.759764Z",
     "start_time": "2018-06-18T21:49:02.810243Z"
    }
   },
   "outputs": [],
   "source": [
    "%timeit func[\"translateY\"](img, ranges[\"translateY\"][2])"
   ]
  },
  {
   "cell_type": "code",
   "execution_count": null,
   "metadata": {
    "ExecuteTime": {
     "end_time": "2018-06-18T21:49:06.934487Z",
     "start_time": "2018-06-18T21:49:04.763048Z"
    }
   },
   "outputs": [],
   "source": [
    "%timeit func[\"contrast\"](img, ranges[\"contrast\"][2])"
   ]
  },
  {
   "cell_type": "code",
   "execution_count": null,
   "metadata": {
    "ExecuteTime": {
     "end_time": "2018-06-18T21:49:15.035284Z",
     "start_time": "2018-06-18T21:49:06.937097Z"
    }
   },
   "outputs": [],
   "source": [
    "%timeit func[\"equalize\"](img, ranges[\"equalize\"][2])"
   ]
  },
  {
   "cell_type": "code",
   "execution_count": null,
   "metadata": {
    "ExecuteTime": {
     "end_time": "2018-06-18T21:49:17.977738Z",
     "start_time": "2018-06-18T21:49:15.037964Z"
    }
   },
   "outputs": [],
   "source": [
    "%timeit func[\"invert\"](img, ranges[\"invert\"][2])"
   ]
  },
  {
   "cell_type": "markdown",
   "metadata": {},
   "source": [
    "## Speed with pillow-simd-5.1.1.post0 installed with \"pip install pillow-simd\""
   ]
  },
  {
   "cell_type": "code",
   "execution_count": null,
   "metadata": {
    "ExecuteTime": {
     "end_time": "2018-06-18T21:50:02.622496Z",
     "start_time": "2018-06-18T21:50:02.582455Z"
    }
   },
   "outputs": [],
   "source": [
    "import PIL\n",
    "PIL.__version__"
   ]
  },
  {
   "cell_type": "code",
   "execution_count": null,
   "metadata": {
    "ExecuteTime": {
     "end_time": "2018-06-18T21:47:45.245244Z",
     "start_time": "2018-06-18T21:47:31.998245Z"
    }
   },
   "outputs": [],
   "source": [
    "%timeit func[\"shearX\"](img, ranges[\"shearX\"][2])"
   ]
  },
  {
   "cell_type": "code",
   "execution_count": null,
   "metadata": {
    "ExecuteTime": {
     "end_time": "2018-06-18T21:47:47.253024Z",
     "start_time": "2018-06-18T21:47:45.247953Z"
    }
   },
   "outputs": [],
   "source": [
    "%timeit func[\"translateY\"](img, ranges[\"translateY\"][2])"
   ]
  },
  {
   "cell_type": "code",
   "execution_count": null,
   "metadata": {
    "ExecuteTime": {
     "end_time": "2018-06-18T21:47:49.187266Z",
     "start_time": "2018-06-18T21:47:47.254938Z"
    }
   },
   "outputs": [],
   "source": [
    "%timeit func[\"contrast\"](img, ranges[\"contrast\"][2])"
   ]
  },
  {
   "cell_type": "code",
   "execution_count": null,
   "metadata": {
    "ExecuteTime": {
     "end_time": "2018-06-18T21:47:58.310914Z",
     "start_time": "2018-06-18T21:47:49.189228Z"
    }
   },
   "outputs": [],
   "source": [
    "%timeit func[\"equalize\"](img, ranges[\"equalize\"][2])"
   ]
  },
  {
   "cell_type": "code",
   "execution_count": null,
   "metadata": {
    "ExecuteTime": {
     "end_time": "2018-06-18T21:48:01.321726Z",
     "start_time": "2018-06-18T21:47:58.313546Z"
    }
   },
   "outputs": [],
   "source": [
    "%timeit func[\"invert\"](img, ranges[\"invert\"][2])"
   ]
  },
  {
   "cell_type": "markdown",
   "metadata": {},
   "source": [
    "# Speed tests for new vs. old rotate\n",
    "- 5-6 times slower"
   ]
  },
  {
   "cell_type": "code",
   "execution_count": null,
   "metadata": {
    "ExecuteTime": {
     "end_time": "2018-07-11T21:37:27.508012Z",
     "start_time": "2018-07-11T21:37:27.489207Z"
    }
   },
   "outputs": [],
   "source": [
    "def rotate_with_fill(img, magnitude):\n",
    "    rot = img.convert(\"RGBA\").rotate(magnitude)\n",
    "    return Image.composite(rot, Image.new(\"RGBA\", rot.size, (128,) * 4), rot).convert(img.mode)"
   ]
  },
  {
   "cell_type": "code",
   "execution_count": null,
   "metadata": {
    "ExecuteTime": {
     "end_time": "2018-07-11T21:37:41.364769Z",
     "start_time": "2018-07-11T21:37:30.738661Z"
    }
   },
   "outputs": [],
   "source": [
    "%timeit rotate_with_fill(img, ranges[\"rotate\"][2])"
   ]
  },
  {
   "cell_type": "code",
   "execution_count": null,
   "metadata": {
    "ExecuteTime": {
     "end_time": "2018-07-11T21:36:21.374104Z",
     "start_time": "2018-07-11T21:36:19.270311Z"
    }
   },
   "outputs": [],
   "source": [
    "%timeit img.rotate(ranges[\"rotate\"][2])"
   ]
  }
 ],
 "metadata": {
  "kernelspec": {
   "display_name": "Python 3",
   "language": "python",
   "name": "python3"
  },
  "language_info": {
   "codemirror_mode": {
    "name": "ipython",
    "version": 3
   },
   "file_extension": ".py",
   "mimetype": "text/x-python",
   "name": "python",
   "nbconvert_exporter": "python",
   "pygments_lexer": "ipython3",
   "version": "3.6.0"
  },
  "toc": {
   "base_numbering": 1,
   "nav_menu": {
    "height": "118px",
    "width": "254px"
   },
   "number_sections": true,
   "sideBar": true,
   "skip_h1_title": false,
   "title_cell": "Table of Contents",
   "title_sidebar": "Contents",
   "toc_cell": false,
   "toc_position": {},
   "toc_section_display": "block",
   "toc_window_display": false
  }
 },
 "nbformat": 4,
 "nbformat_minor": 2
}
